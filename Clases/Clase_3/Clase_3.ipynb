{
 "cells": [
  {
   "cell_type": "code",
   "execution_count": 1,
   "metadata": {},
   "outputs": [
    {
     "data": {
      "text/html": [
       "<!-- Mejorar visualización en proyector -->\n",
       "<style>\n",
       ".rendered_html {font-size: 1.2em; line-height: 150%;}\n",
       "div.prompt {min-width: 0ex; }\n",
       ".container {width:95% !important;}\n",
       "</style>\n"
      ],
      "text/plain": [
       "<IPython.core.display.HTML object>"
      ]
     },
     "metadata": {},
     "output_type": "display_data"
    }
   ],
   "source": [
    "%%HTML\n",
    "<!-- Mejorar visualización en proyector -->\n",
    "<style>\n",
    ".rendered_html {font-size: 1.2em; line-height: 150%;}\n",
    "div.prompt {min-width: 0ex; }\n",
    ".container {width:95% !important;}\n",
    "</style>"
   ]
  },
  {
   "cell_type": "markdown",
   "metadata": {},
   "source": [
    "<h1 style=\"text-align:center\">Clase 3: Dinámica de una partícula. </h1>\n",
    "<h3 style=\"text-align:center\">ACUS262: Aislamiento y Análisis de Vibraciones</h3>\n",
    "<p style=\"text-align:center\">Dr. Víctor Poblete <br>\n",
    "<a href=\"mailto:vpoblete@uach.cl\">vpoblete@uach.cl</a><br>\n",
    "<a href=\"https://github.com/vpobleteacustica/ACUS262-Aislamiento-y-analisis-de-vibraciones\">https://github.com/vpobleteacustica/ACUS262-Aislamiento-y-analisis-de-vibraciones</a><br> \n",
    "<a href=\"http://www.acusticauach.cl\">www.acusticauach.cl</a><br> "
   ]
  },
  {
   "cell_type": "markdown",
   "metadata": {},
   "source": [
    "### *Nuestras variables lineales son:*"
   ]
  },
  {
   "cell_type": "markdown",
   "metadata": {},
   "source": [
    "> * Posición:\n",
    "    + ${\\bf{\\text{r}}}(t)$\n",
    "> * Velocidad:\n",
    "    + ${\\bf{\\dot{r}}}(t)$\n",
    "> * Aceleración:    \n",
    "    + ${\\bf{\\ddot{r}}}(t)$"
   ]
  },
  {
   "cell_type": "markdown",
   "metadata": {},
   "source": [
    "### *Nuestra variables rotacionales son:*"
   ]
  },
  {
   "cell_type": "markdown",
   "metadata": {},
   "source": [
    "* Desplazamiento angular:\n",
    "    + $\\theta (t)$\n",
    "* Velocidad angular:\n",
    "    + $\\omega (t) = \\dot{\\theta} (t)$\n",
    "* Aceleración angular:    \n",
    "    + $\\alpha (t) = \\dot{\\omega}(t) = \\ddot{\\theta}(t)$"
   ]
  },
  {
   "cell_type": "markdown",
   "metadata": {},
   "source": [
    "### Segunda Ley de Newton para rotación"
   ]
  },
  {
   "cell_type": "markdown",
   "metadata": {},
   "source": [
    "La segunda ley de Newton para rotación establece que la **aceleración angular** es proporcional al torque e inversamente proporcional al **momento de inercia**. En términos escalares: "
   ]
  },
  {
   "cell_type": "markdown",
   "metadata": {},
   "source": [
    "\\begin{align*}\n",
    "\\text{M}_{0}&=\\text{I}_{0}\\,\\alpha\n",
    "\\end{align*}"
   ]
  },
  {
   "cell_type": "markdown",
   "metadata": {},
   "source": [
    "donde $\\text{I}_{0}$ es el momento de inercia de la partícula de masa $\\text{m}$ con respecto al punto inercial $0$. Para el caso del péndulo simple, con $\\text{I}_{0}=\\text{m}\\text{L}^{2}$ y ${\\text{M}}_{0}= -{\\text{m}}{\\text{g}}{\\text{L}}\\,{\\text{sen}}(\\theta)$, se obtiene la siguiente ecuación angular de movimiento:"
   ]
  },
  {
   "cell_type": "markdown",
   "metadata": {},
   "source": [
    "\\begin{align*}\n",
    "-{\\text{m}}{\\text{g}}{\\text{L}}\\,{\\text{sen}}(\\theta)&=\\text{m}\\text{L}^{2}\\,\\ddot{\\theta}\n",
    "\\end{align*}"
   ]
  },
  {
   "cell_type": "markdown",
   "metadata": {},
   "source": [
    "Despejando:"
   ]
  },
  {
   "cell_type": "markdown",
   "metadata": {},
   "source": [
    "\\begin{align*}\n",
    "\\ddot{\\theta}+\\,\\omega_{0}^{2}\\,{\\text{sen}}(\\theta)\\,&=\\,0\n",
    "\\end{align*}"
   ]
  },
  {
   "cell_type": "markdown",
   "metadata": {},
   "source": [
    "con $$\\omega_{0}\\,=\\,\\sqrt{\\frac{{\\text{g}}}{{\\text{L}}}}$$"
   ]
  },
  {
   "cell_type": "markdown",
   "metadata": {},
   "source": [
    "### Sistema masa resorte sin fricción y libre de fuerza"
   ]
  },
  {
   "cell_type": "markdown",
   "metadata": {},
   "source": [
    "Otro ejemplo clásico en análisis de vibraciones, sin fricción, de un grado de libertad, es el sistema masa resorte. El sistema está compuesto de una partícula de masa $\\text{m}$ unida a un resorte y que comienza a vibrar.   "
   ]
  },
  {
   "cell_type": "markdown",
   "metadata": {},
   "source": [
    "<p style=\"text-align:center\">\n",
    "<a title=\"Relación Momentum\"><img src=\"masaresorte.png\" width=\"350\" height=\"350\" alt=\"Tiny\"></a>\n",
    "<strong>Figure 1. Sistema masa resorte sin fricción y libre de fuerza.</strong> "
   ]
  },
  {
   "cell_type": "markdown",
   "metadata": {},
   "source": [
    "La masa, se mueve a lo largo de una linea recta. Cuando el resorte se estira la fuerza del resorte hace que quiera regresar a la masa a su posición de equilibrio. Si se comprime el resorte, la fuerza del resorte tiende a empujar la masa para que regrese. Esta fuerza del resorte es siempre contraria al movimiento. "
   ]
  },
  {
   "cell_type": "markdown",
   "metadata": {},
   "source": [
    "Sea $x(t)$ la posición de la masa sobre el eje-x a lo largo del cual se mueve la masa. El resorte no está estirado cuando $x=0$. En ese caso la fuerza es cero y $x=0$ es la posición de equilibrio del cuerpo (aceleración cero). La fuerza del resorte, se representa por $-kx$, donde $k$ es una constante elástica. Por la segunda ley de Newton, "
   ]
  },
  {
   "cell_type": "markdown",
   "metadata": {},
   "source": [
    "\\begin{align*}\n",
    "\\text{m}\\,\\ddot{x}&=-\\text{k}x\n",
    "\\end{align*}"
   ]
  },
  {
   "cell_type": "markdown",
   "metadata": {},
   "source": [
    "o bien, re-escrita como en el caso del péndulo simple:"
   ]
  },
  {
   "cell_type": "markdown",
   "metadata": {},
   "source": [
    "\\begin{align*}\n",
    "\\ddot{x}+\\,\\omega_{0}^{2}\\,x\\,&=\\,0\n",
    "\\end{align*}"
   ]
  },
  {
   "cell_type": "markdown",
   "metadata": {},
   "source": [
    "con $$\\omega_{0}\\,=\\,\\sqrt{\\frac{{\\text{k}}}{{\\text{m}}}}$$"
   ]
  },
  {
   "cell_type": "markdown",
   "metadata": {},
   "source": [
    "### Dinámica de sistema de partículas"
   ]
  },
  {
   "cell_type": "markdown",
   "metadata": {},
   "source": [
    "Un sistema de partículas se caracteriza porque la masa está concentrada en $N$ puntos discretos. Aquí surge un concepto importante que es el Centro de Masa (C). Este es un punto que ocupa una posición media ponderada por todas las partículas del sistema, como se muestra en la Fig. 1"
   ]
  },
  {
   "cell_type": "markdown",
   "metadata": {},
   "source": [
    "El factor de ponderación de cada partícula es el valor de la masa $m_{\\text{i}}$. "
   ]
  },
  {
   "cell_type": "markdown",
   "metadata": {},
   "source": [
    "Por definición, se llama ${\\bf{\\text{r}}}_{C}$ al vector de posición del centro de masa, medido desde el punto $\\text{0}$ de referencia inercial."
   ]
  },
  {
   "cell_type": "markdown",
   "metadata": {},
   "source": [
    "\\begin{align}\n",
    "{\\bf{\\text{r}}}_{C}&=\\frac{\\sum_{i=1}^{N}m_{i}{\\bf{\\text{r}_{i}}}}{\\sum_{i=1}^{N}m_{i}}\n",
    "\\end{align}"
   ]
  },
  {
   "cell_type": "markdown",
   "metadata": {},
   "source": [
    "donde $m = \\sum_{i=1}^{N}m_{i}$ es la masa total del sistema de partículas."
   ]
  },
  {
   "cell_type": "markdown",
   "metadata": {},
   "source": [
    "<p style=\"text-align:center\">\n",
    "<a title=\"sistema de partículas\"><img src=\"SistemaNPart.png\" width=\"450\" height=\"450\" alt=\"Tiny\"></a>\n",
    "<strong>Figure 2. Un sistema de partículas.</strong> "
   ]
  },
  {
   "cell_type": "markdown",
   "metadata": {},
   "source": [
    "Para la partícula $\\text{m}_{i}$, se escriben los vectores de posición, velocidad y aceleración:"
   ]
  },
  {
   "cell_type": "markdown",
   "metadata": {},
   "source": [
    "\\begin{align*}\n",
    "{\\bf{r}}_{i} &={\\bf{\\text{r}}}_{C}+{\\bf{\\text{r}}}_{i}^{'},\\quad\\quad {\\text{i=1,2,}}\\ldots{\\text{N}}\n",
    "\\end{align*}"
   ]
  },
  {
   "cell_type": "markdown",
   "metadata": {},
   "source": [
    "\\begin{align*}\n",
    "{\\bf{\\dot{r}}}_{i} &={\\bf{\\dot{\\text{r}}}}_{C}+{\\bf{\\dot{\\text{r}}}}_{i}^{'},\\quad\\quad {\\text{i=1,2,}}\\ldots{\\text{N}}\n",
    "\\end{align*}"
   ]
  },
  {
   "cell_type": "markdown",
   "metadata": {},
   "source": [
    "\\begin{align*}\n",
    "{\\bf{\\ddot{r}}}_{i} &={\\bf{\\ddot{\\text{r}}}}_{C}+{\\bf{\\ddot{\\text{r}}}}_{i}^{'},\\quad\\quad {\\text{i=1,2,}}\\ldots{\\text{N}}\n",
    "\\end{align*}"
   ]
  },
  {
   "cell_type": "markdown",
   "metadata": {},
   "source": [
    "la comilla significa que es medido relativo al centro de masa del sistema."
   ]
  },
  {
   "cell_type": "markdown",
   "metadata": {},
   "source": [
    "Ya que:"
   ]
  },
  {
   "cell_type": "markdown",
   "metadata": {},
   "source": [
    "\\begin{align}\n",
    "{\\bf{\\text{r}}}_{C}&=\\frac{1}{m}\\,\\sum_{i=1}^{N}m_{i}{\\bf{\\text{r}_{i}}}\\\\\n",
    "&=\\frac{1}{m}\\,\\sum_{i=1}^{N}m_{i}\\,({\\bf{\\text{r}}}_{C}+{\\bf{\\text{r}}}_{i}^{'})\\\\\n",
    "&=\\frac{1}{m}\\bigg[ \\sum_{i=1}^{N}m_{i}\\,{\\bf{\\text{r}}}_{C} + \\sum_{i=1}^{N}m_{i}\\,{\\bf{\\text{r}}}_{i}^{'} \\bigg]\\\\\n",
    "&= {\\bf{\\text{r}}}_{C}+\\frac{1}{m}\\sum_{i=1}^{N}m_{i}\\,{\\bf{\\text{r}}}_{i}^{'}\n",
    "\\end{align}"
   ]
  },
  {
   "cell_type": "markdown",
   "metadata": {},
   "source": [
    "Esto significa que el centro de masa también podría ser definido como el punto en el cual se cumple:"
   ]
  },
  {
   "cell_type": "markdown",
   "metadata": {},
   "source": [
    "\\begin{align}\n",
    "\\sum_{i=1}^{N}m_{i}\\,{\\bf{\\text{r}}}_{i}^{'}&=0\n",
    "\\end{align}"
   ]
  },
  {
   "cell_type": "markdown",
   "metadata": {},
   "source": [
    "La ecuación de movimiento para la partícula $m_{i}$ es:"
   ]
  },
  {
   "cell_type": "markdown",
   "metadata": {},
   "source": [
    "\\begin{align*}\n",
    "{\\bf{\\text{F}}}_{i}+\\sum_{j=1}^{N}{\\bf{f}}_{ji}&=m_{i}\\,{\\bf{\\ddot{r}}}_{i},\\quad\\quad {\\text{i=1,2,}}\\ldots{\\text{N}}\n",
    "\\end{align*}"
   ]
  },
  {
   "cell_type": "markdown",
   "metadata": {},
   "source": [
    "Mientras que para el sistema de partículas completo, la ecuación de movimiento será:"
   ]
  },
  {
   "cell_type": "markdown",
   "metadata": {},
   "source": [
    "\\begin{align*}\n",
    "\\sum_{i=1}^{N}{\\bf{\\text{F}}}_{i}+\\sum_{i=1}^{N}\\sum_{j=1}^{N}{\\bf{f}}_{ji}&=\\,\\sum_{i=1}^{N}m_{i}\\,{\\bf{\\ddot{r}}}_{i},\\quad\\quad {\\text{i=1,2,}}\\ldots{\\text{N}}\n",
    "\\end{align*}"
   ]
  },
  {
   "cell_type": "markdown",
   "metadata": {},
   "source": [
    "Por la tercera ley de Newton, se cancelan las fuerzas internas ${\\bf{f}}_{ji}=-{\\bf{f}}_{ij}$"
   ]
  },
  {
   "cell_type": "markdown",
   "metadata": {},
   "source": [
    "Si se llama fuerza resultante ${\\bf{F}}$ a la suma de todas las fuerzas, entonces"
   ]
  },
  {
   "cell_type": "markdown",
   "metadata": {},
   "source": [
    "\\begin{align*}\n",
    "\\sum_{i=1}^{N}{\\bf{\\text{F}}}_{i}&={\\bf{F}}\n",
    "\\end{align*}"
   ]
  },
  {
   "cell_type": "markdown",
   "metadata": {},
   "source": [
    "La ecuación de movimiento para el sistema de $N$ partículas es:"
   ]
  },
  {
   "cell_type": "markdown",
   "metadata": {},
   "source": [
    "\\begin{align*}\n",
    "{\\bf{F}}&=\\,\\sum_{i=1}^{N}m_{i}\\,{\\bf{\\ddot{r}}}_{i},\\quad\\quad {\\text{i=1,2,}}\\ldots{\\text{N}}\n",
    "\\end{align*}"
   ]
  },
  {
   "cell_type": "markdown",
   "metadata": {},
   "source": [
    "Asimismo, se define el momentum angular pare el sistema:"
   ]
  },
  {
   "cell_type": "markdown",
   "metadata": {},
   "source": [
    "\\begin{align*}\n",
    "{\\bf{H}}_{0}&=\\,\\sum_{i=1}^{N}{\\bf{r}}_{i}\\times {\\bf{p}}\\\\\n",
    "&=\\,\\sum_{i=1}^{N}{\\bf{r}}_{i}\\times m_{i}{\\bf{\\dot{r}}}_{i}\n",
    "\\end{align*}"
   ]
  },
  {
   "cell_type": "markdown",
   "metadata": {},
   "source": [
    "Derivando con respecto al tiempo:"
   ]
  },
  {
   "cell_type": "markdown",
   "metadata": {},
   "source": [
    "\\begin{align*}\n",
    "{\\bf{\\dot{H}}}_{0}&=\\,\\sum_{i=1}^{N}\\bigg({\\bf{\\dot{r}}}_{i}\\times m_{i}{\\bf{\\dot{r}}}_{i}+{\\bf{r}}_{i}\\times m_{i}{\\bf{\\ddot{r}}}_{i}\\bigg)\\\\\n",
    "&=\\,\\sum_{i=1}^{N}{\\bf{r}}_{i}\\times m_{i}{\\bf{\\ddot{r}}}_{i}\\\\\n",
    "&=\\,\\sum_{i=1}^{N}{\\bf{r}}_{i}\\times {\\bf{F}}\\\\\n",
    "&={\\bf{M}}_{0}\n",
    "\\end{align*}"
   ]
  },
  {
   "cell_type": "markdown",
   "metadata": {},
   "source": [
    "Y se encuentra la misma relación entre: ${\\bf{\\dot{H}}}_{0}={\\bf{M}}_{0}.$"
   ]
  },
  {
   "cell_type": "markdown",
   "metadata": {},
   "source": [
    "Si ahora, se considera el centro de masa podemos escribir la fuerza resultante como:"
   ]
  },
  {
   "cell_type": "markdown",
   "metadata": {},
   "source": [
    "\\begin{align*}\n",
    "{\\bf{F}}&=\\sum_{i=1}^{N}m_{i}{\\bf{\\ddot{r}}}_{i}=\\sum_{i=1}^{N}m_{i}\\bigg({\\bf{\\ddot{\\text{r}}}}_{C}+{\\bf{\\ddot{\\text{r}}}}_{i}^{'}\\bigg)\\\\\n",
    "&=m\\,{\\bf{\\ddot{\\text{r}}}}_{C}+\\sum_{i=1}^{N}m_{i}\\,{\\bf{\\ddot{\\text{r}}}}_{i}^{'}\n",
    "\\end{align*}"
   ]
  },
  {
   "cell_type": "markdown",
   "metadata": {},
   "source": [
    "Pero, por definición de centro de masa:"
   ]
  },
  {
   "cell_type": "markdown",
   "metadata": {},
   "source": [
    "\\begin{align}\n",
    "\\sum_{i=1}^{N}m_{i}\\,{\\bf{\\ddot{\\text{r}}}}_{i}^{'}&=0\n",
    "\\end{align}"
   ]
  },
  {
   "cell_type": "markdown",
   "metadata": {},
   "source": [
    "Así que, la fuerza resultante será:"
   ]
  },
  {
   "cell_type": "markdown",
   "metadata": {},
   "source": [
    "\\begin{align*}\n",
    "{\\bf{F}}&=m\\,{\\bf{\\ddot{\\text{r}}}}_{C}\n",
    "\\end{align*}"
   ]
  },
  {
   "cell_type": "markdown",
   "metadata": {},
   "source": [
    "Esta ecuación quiere decir que el movimiento del sistema de partículas, bajo la acción de una fuerza resultante ${\\bf{F}}$, es equivalente a un movimiento de un solo cuerpo de masa total $\\text{m}$ y cuya aceleración es la del centro de masa ${\\bf{\\ddot{\\text{r}}}}_{C}.$"
   ]
  },
  {
   "cell_type": "markdown",
   "metadata": {},
   "source": [
    "#### Momentum angular con respecto al centro de masa"
   ]
  },
  {
   "cell_type": "markdown",
   "metadata": {},
   "source": [
    "Se define como:"
   ]
  },
  {
   "cell_type": "markdown",
   "metadata": {},
   "source": [
    "\\begin{align*}\n",
    "{\\bf{H}}_{C}&=\\,\\sum_{i=1}^{N}{\\bf{r}}_{i}^{'}\\times m_{i}{\\bf{\\dot{r}}}_{i}^{'}\n",
    "\\end{align*}"
   ]
  },
  {
   "cell_type": "markdown",
   "metadata": {},
   "source": [
    "Se puede también comprobar que:"
   ]
  },
  {
   "cell_type": "markdown",
   "metadata": {},
   "source": [
    "\\begin{align*}\n",
    "{\\bf{\\dot{H}}}_{C}&={\\bf{M}}_{C}\n",
    "\\end{align*}"
   ]
  },
  {
   "cell_type": "markdown",
   "metadata": {},
   "source": [
    "con "
   ]
  },
  {
   "cell_type": "markdown",
   "metadata": {},
   "source": [
    "\\begin{align*}\n",
    "{\\bf{M}}_{C}&=\\,\\sum_{i=1}^{N}{\\bf{r}}_{i}^{'}\\times m_{i}{\\bf{F}}_{i}\n",
    "\\end{align*}"
   ]
  },
  {
   "cell_type": "markdown",
   "metadata": {},
   "source": [
    "### Dinámica de sistema de cuerpo rígido"
   ]
  },
  {
   "cell_type": "markdown",
   "metadata": {},
   "source": [
    "Un cuerpo rígido se caracteriza porque tiene una masa distribuida continuamente a lo largo del cuerpo."
   ]
  },
  {
   "cell_type": "markdown",
   "metadata": {},
   "source": [
    "Se define $\\rho(x,y,z)$ como la **función de densidad** de masa que representa la masa por unidad de volumen."
   ]
  },
  {
   "cell_type": "markdown",
   "metadata": {},
   "source": [
    "En este caso, se reemplaza $m_{i}$ por un elemento diferencial de masa: ${\\text{dm}}\\,(x,y,z)$"
   ]
  },
  {
   "cell_type": "markdown",
   "metadata": {},
   "source": [
    "La distancia entre dos puntos del cuerpo rígido siempre es constante. Por lo que, cualquier movimiento de un punto con respecto al otro se debe por completo a una rotación."
   ]
  },
  {
   "cell_type": "markdown",
   "metadata": {},
   "source": [
    "#### Traslación"
   ]
  },
  {
   "cell_type": "markdown",
   "metadata": {},
   "source": [
    "Por analogía con un sistema de partículas:"
   ]
  },
  {
   "cell_type": "markdown",
   "metadata": {},
   "source": [
    "\\begin{align*}\n",
    "{\\bf{F}}&=\\,\\sum_{i=1}^{N}m_{i}\\,{\\bf{\\ddot{r}}}_{i}\\,=\\sum_{i=1}^{N}m_{i}\\,{\\bf{a}}_{i}\\quad\\quad {\\text{i=1,2,}}\\ldots{\\text{N}}\n",
    "\\end{align*}"
   ]
  },
  {
   "cell_type": "markdown",
   "metadata": {},
   "source": [
    "para un cuerpo rígido la fuerza resultante ${\\bf{F}}(t)$ será igual a:"
   ]
  },
  {
   "cell_type": "markdown",
   "metadata": {},
   "source": [
    "\\begin{align*}\n",
    "{\\bf{F}}(t)&=\\,\\int_{{\\text{cuerpo}}}^{}{\\bf{a}}(x,y,z,t)\\,{\\text{dm}}\\,(x,y,z)\n",
    "\\end{align*}"
   ]
  },
  {
   "cell_type": "markdown",
   "metadata": {},
   "source": [
    "con ${\\bf{a}}(x,y,z,t)$ el vector de aceleración en un punto sobre el cuerpo rígido y ${\\text{dm}}\\,(x,y,z)=\\rho(x,y,z)\\,dV$, siendo $V$ un elemento diferencial de volumen. "
   ]
  },
  {
   "cell_type": "markdown",
   "metadata": {},
   "source": [
    "En traslación, para todos los puntos del sistema de cuerpo rígido la aceleración es la misma, es decir, ${\\bf{a}}(x,y,z,t)={\\bf{a}}(t)$. Por lo que la ecuación de movimiento del sistema es:"
   ]
  },
  {
   "cell_type": "markdown",
   "metadata": {},
   "source": [
    "\\begin{align*}\n",
    "{\\bf{F}}(t)&=\\,{\\bf{a}}(t)\\,\\int_{{\\text{cuerpo}}}^{}{\\text{dm}}\\,(x,y,z)\n",
    "\\end{align*}"
   ]
  },
  {
   "cell_type": "markdown",
   "metadata": {},
   "source": [
    "Pero, la masa total del sistema de cuerpo rígido es"
   ]
  },
  {
   "cell_type": "markdown",
   "metadata": {},
   "source": [
    "\\begin{align*}\n",
    "\\int_{{\\text{cuerpo}}}^{}{\\text{dm}}\\,(x,y,z)&=m\n",
    "\\end{align*}"
   ]
  },
  {
   "cell_type": "markdown",
   "metadata": {},
   "source": [
    "Así que, la ecuación diferencial de movimiento es:"
   ]
  },
  {
   "cell_type": "markdown",
   "metadata": {},
   "source": [
    "\\begin{align*}\n",
    "{\\bf{F}}(t)&=\\,m\\,{\\bf{a}}(t)\n",
    "\\end{align*}"
   ]
  },
  {
   "cell_type": "markdown",
   "metadata": {},
   "source": [
    "#### Ejercicio"
   ]
  },
  {
   "cell_type": "markdown",
   "metadata": {},
   "source": [
    "Obtener las ecuaciones de movimiento para el siguiente sistema de cuerpo rígido en traslación horizontal."
   ]
  },
  {
   "cell_type": "markdown",
   "metadata": {},
   "source": [
    "<p style=\"text-align:center\">\n",
    "\t<img src=\"ej1.png\" alt=\"Sistema de partículas\" width=35%/></a><br>\n",
    "    <strong> Figura 2: Sistema de cuerpo de rígido en traslación horizontal. </strong>\n",
    "</p>"
   ]
  },
  {
   "cell_type": "markdown",
   "metadata": {},
   "source": [
    "<p style=\"text-align:center\">\n",
    "\t<img src=\"ej2.png\" alt=\"Sistema de partículas\" width=35%/></a><br>\n",
    "    <strong> Figura 3: Diagrama de cuerpo libre (DCL). </strong>\n",
    "</p>"
   ]
  },
  {
   "cell_type": "markdown",
   "metadata": {},
   "source": [
    "Las reacciones horizontales en los puntos de contacto A y B, como se muestra en el dibujo de la Fig. 1, son proporcionales a las reacciones verticales en esos puntos, siendo la constante de proporcionalidad es el coeficiente de fricción $\\mu$."
   ]
  },
  {
   "cell_type": "markdown",
   "metadata": {},
   "source": [
    "Usar los valores: $\\beta = 30^{\\text{o}}$; $\\mu = 0.5$; $\\text{H}=0.6\\,{\\text{L}}$; y $\\text{D}=0.1\\,{\\text{L}}$, y determinar la magnitud de la fuerza, $\\text{F}$, como una fracción del peso, $\\text{m}{\\text{g}}$, cuando el cuerpo está a punto de volcar (pero no se vuelca!), al igual que la aceleración del cuerpo como una fracción de $\\text{g}$. "
   ]
  },
  {
   "cell_type": "markdown",
   "metadata": {},
   "source": [
    "#### Desarrollo"
   ]
  },
  {
   "cell_type": "code",
   "execution_count": null,
   "metadata": {},
   "outputs": [],
   "source": [
    "Se observa lo siguiente:"
   ]
  },
  {
   "cell_type": "markdown",
   "metadata": {},
   "source": [
    "* El problema es bidimensional, todo ocurre en el plano-xy.\n",
    "    + Por lo cual, las ecuaciones de fuerza tienen solamente dos componentes escalares: $\\text{F}_{x}=\\text{m}\\text{a}_{x}$ y $\\text{F}_{y}=\\text{m}\\text{a}_{y}$\n",
    "* El cuerpo en traslación horizontal solamente tiene aceleración en dirección $\\text{x}$.\n",
    "* En el instante de casi volcar, en el punto de contacto $\\text{A}$, la reacción normal, $\\text{N}_{\\text{A}}=0$.\n",
    "\n",
    "* En el DCL, se representan las siguientes fuerzas:   \n",
    "    + La fuerza aplicada en la esquina superior izquierda ${\\text{F}}$.\n",
    "    + El peso que apunta verticalmente hacia abajo y pasa por el centro de masa.\n",
    "    + La fuerza normal $\\text{N}_{\\text{B}}$ en el punto de contacto $\\text{B}$.\n",
    "    + La fuerza de fricción ${\\text{F}_{\\text{B}}}$ en el punto de contacto $\\text{B}$"
   ]
  },
  {
   "cell_type": "markdown",
   "metadata": {},
   "source": [
    "Calculemos:"
   ]
  },
  {
   "cell_type": "markdown",
   "metadata": {},
   "source": [
    "\\begin{align*}\n",
    "\\text{F}_{x}&= \\text{F}\\,{\\text{cos}\\big(\\beta \\big)} \\,-\\,\\mu\\, \\text{N}_{\\text{B}}\\,=\\,\\text{m}\\text{a}_{x}\n",
    "\\end{align*}"
   ]
  },
  {
   "cell_type": "markdown",
   "metadata": {},
   "source": [
    "\\begin{align*}\n",
    "\\text{F}_{y}&= \\text{F}\\,{\\text{sen}\\big(\\beta \\big)}\\,+\\,\\text{N}_{\\text{B}}\\,-\\,\\text{m}{\\text{g}}\\,=\\,0\n",
    "\\end{align*}"
   ]
  },
  {
   "cell_type": "markdown",
   "metadata": {},
   "source": [
    "Se tienen 2 ecuaciones y se reconocen 3 incógnitas: $\\text{F}$, $\\text{N}_{\\text{B}}$ y $\\text{a}_{x}$. Por lo que debemos usar una tercera ecuación que es la ecuación de momento de la fuerza alrededor del centro de masa, el cual tiende a volcar el cuerpo."
   ]
  },
  {
   "cell_type": "markdown",
   "metadata": {},
   "source": [
    "+ Según la descripción del problema, el cuerpo se está trasladando horizontalmente y a pesar de que tiende a volcar por la fuerza aplicada, éste no sufre rotaciones.\n",
    "+ Ya que todo sucede en el plano-xy se sumarán los momentos en torno al centro de masa que son magnitudes escalares.\n",
    "+ La magnitud del momento de la fuerza con respecto a C, es igual a la **distancia perpendicular** medida desde $\\text{C}$ a la línea de acción de la fuerza, multiplicada por la magnitud de la fuerza."
   ]
  },
  {
   "cell_type": "code",
   "execution_count": null,
   "metadata": {},
   "outputs": [],
   "source": []
  },
  {
   "cell_type": "code",
   "execution_count": null,
   "metadata": {},
   "outputs": [],
   "source": []
  }
 ],
 "metadata": {
  "kernelspec": {
   "display_name": "Python 3",
   "language": "python",
   "name": "python3"
  },
  "language_info": {
   "codemirror_mode": {
    "name": "ipython",
    "version": 3
   },
   "file_extension": ".py",
   "mimetype": "text/x-python",
   "name": "python",
   "nbconvert_exporter": "python",
   "pygments_lexer": "ipython3",
   "version": "3.6.9"
  }
 },
 "nbformat": 4,
 "nbformat_minor": 2
}

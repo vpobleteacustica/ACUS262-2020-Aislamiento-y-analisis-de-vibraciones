{
 "cells": [
  {
   "cell_type": "code",
   "execution_count": 1,
   "metadata": {},
   "outputs": [
    {
     "data": {
      "text/html": [
       "<!-- Mejorar visualización en proyector -->\n",
       "<style>\n",
       ".rendered_html {font-size: 1.2em; line-height: 150%;}\n",
       "div.prompt {min-width: 0ex; }\n",
       ".container {width:95% !important;}\n",
       "</style>\n"
      ],
      "text/plain": [
       "<IPython.core.display.HTML object>"
      ]
     },
     "metadata": {},
     "output_type": "display_data"
    }
   ],
   "source": [
    "%%HTML\n",
    "<!-- Mejorar visualización en proyector -->\n",
    "<style>\n",
    ".rendered_html {font-size: 1.2em; line-height: 150%;}\n",
    "div.prompt {min-width: 0ex; }\n",
    ".container {width:95% !important;}\n",
    "</style>"
   ]
  },
  {
   "cell_type": "markdown",
   "metadata": {},
   "source": [
    "<h1 style=\"text-align:center\">Clase 8: El decremento logarítmico</h1>\n",
    "<h3 style=\"text-align:center\">ACUS262: Aislamiento y Análisis de Vibraciones</h3>\n",
    "<p style=\"text-align:center\">Dr. Víctor Poblete <br>\n",
    "<a href=\"mailto:vpoblete@uach.cl\">vpoblete@uach.cl</a><br>\n",
    "<a href=\"https://github.com/vpobleteacustica/ACUS262-Aislamiento-y-analisis-de-vibraciones\">https://github.com/vpobleteacustica/ACUS262-Aislamiento-y-analisis-de-vibraciones</a><br> \n",
    "<a href=\"http://www.acusticauach.cl\">www.acusticauach.cl</a><br>"
   ]
  },
  {
   "cell_type": "markdown",
   "metadata": {},
   "source": [
    "### 1. El decremento logarítmico"
   ]
  },
  {
   "cell_type": "markdown",
   "metadata": {},
   "source": [
    "Se define para vibraciones libres sub-amortiguadas, como la razón a la cual disminuye la amplitud de la vibración libre de un sistema masa, resorte y amortiguador, como el que se muestra en la Fig. 1."
   ]
  },
  {
   "cell_type": "markdown",
   "metadata": {},
   "source": [
    "<p style=\"text-align:center\">\n",
    "\t<img src=\"1.png\" alt=\"MDOF\" width=25%/></a><br>\n",
    "    <strong> Figura 1: Sistema sub-amortiguado ($\\,0\\,<\\, \\zeta\\,<\\,1\\,$) masa, resorte y amortiguador, en vibración libre.</strong>\n",
    "</p>"
   ]
  },
  {
   "cell_type": "markdown",
   "metadata": {},
   "source": [
    "* La ecuación clásica de movimiento de este sistema, escrita en términos de la frecuencia angular natural $\\omega_{0}$ y de la razón de amortiguamiento $\\zeta$ (cantidad que no tiene unidades), es:"
   ]
  },
  {
   "cell_type": "markdown",
   "metadata": {},
   "source": [
    "\\begin{align*}\n",
    "\\ddot{x}(t)+2\\zeta \\omega_{0}\\,\\dot{x}(t)+\\omega_{0}^{2}\\,x(t)&=0\n",
    "\\label{eq1}\\tag{1}\n",
    "\\end{align*}"
   ]
  },
  {
   "cell_type": "markdown",
   "metadata": {},
   "source": [
    "donde\n",
    "\\begin{align*}\n",
    "\\zeta &=\\frac{c}{2\\,\\sqrt{k\\,m}}\n",
    "\\label{eq2}\\tag{2}\n",
    "\\end{align*}"
   ]
  },
  {
   "cell_type": "markdown",
   "metadata": {},
   "source": [
    "donde c es el coeficiente de amortiguamiento viscoso del amortiguador en la Fig. 1. Usando las condiciones iniciales, "
   ]
  },
  {
   "cell_type": "markdown",
   "metadata": {},
   "source": [
    "\\begin{align*}\n",
    "x(0)&=x_{0}\n",
    "\\label{eq3}\\tag{3}\n",
    "\\end{align*}"
   ]
  },
  {
   "cell_type": "markdown",
   "metadata": {},
   "source": [
    "\\begin{align*}\n",
    "\\dot{x}(0)&=\\dot{x}_{0}\n",
    "\\label{eq4}\\tag{4}\n",
    "\\end{align*}"
   ]
  },
  {
   "cell_type": "markdown",
   "metadata": {},
   "source": [
    "una de las formas que tiene la solución para la Ec. ([1](#mjx-eqn-eq1)) es:"
   ]
  },
  {
   "cell_type": "markdown",
   "metadata": {},
   "source": [
    "\\begin{align*}\n",
    "x(t)&=Ae^{-\\zeta\\omega_{0}t}\\,{\\text{cos}}\\big( \\omega_{d}t-\\phi_{d}\\big)\n",
    "\\label{eq5}\\tag{5}\n",
    "\\end{align*}"
   ]
  },
  {
   "cell_type": "markdown",
   "metadata": {},
   "source": [
    "con"
   ]
  },
  {
   "cell_type": "markdown",
   "metadata": {},
   "source": [
    "\\begin{align*}\n",
    "A&=\\sqrt{x_{0}^{2}+\\big(\\frac{\\dot{x}(0)+\\zeta\\omega_{0}x_{0}}{\\omega_{d}}\\big)^{2}}\n",
    "\\label{eq6}\\tag{6}\n",
    "\\end{align*}"
   ]
  },
  {
   "cell_type": "markdown",
   "metadata": {},
   "source": [
    "\\begin{align*}\n",
    "\\phi_{d}&={\\text{tan}}^{-1}\\bigg( \\frac{x_{0}\\omega_{d}}{\\dot{x}_{0}+\\zeta\\omega_{0}x_{0}} \\bigg)\n",
    "\\label{eq7}\\tag{7}\n",
    "\\end{align*}"
   ]
  },
  {
   "cell_type": "markdown",
   "metadata": {},
   "source": [
    "\\begin{align*}\n",
    "\\omega_{d}&=\\omega_{0}\\sqrt{1-\\zeta^{2}}\n",
    "\\label{eq8}\\tag{8}\n",
    "\\end{align*}"
   ]
  },
  {
   "cell_type": "markdown",
   "metadata": {},
   "source": [
    "siendo $\\omega_{d}$ la **frecuencia angular natural amortiguada** (rad/s); $\\omega_{0}=\\sqrt{k/m}$ la frecuencia angular natural (rad/s) y $T_{d}$ el período de la **vibración sub-amortiguada, libre**, también llamado **período amortiguado**, dado por:"
   ]
  },
  {
   "cell_type": "markdown",
   "metadata": {},
   "source": [
    "\\begin{align*}\n",
    "T_{d}&=\\frac{2\\pi}{\\omega_{d}}\n",
    "\\label{eq9}\\tag{9}\n",
    "\\end{align*}"
   ]
  },
  {
   "cell_type": "markdown",
   "metadata": {},
   "source": [
    "### Medición de los parámetros del sistema: $m$, $k$ y $c$"
   ]
  },
  {
   "cell_type": "markdown",
   "metadata": {},
   "source": [
    "#### - El valor de la masa, $m$, se puede obtener a través de su peso: $\\large m = \\frac{W}{g}$"
   ]
  },
  {
   "cell_type": "markdown",
   "metadata": {},
   "source": [
    "#### - El valor de la rigidez del resorte, $k$, se puede obtener al estirar un resorte con una fuerza creciente y midiendo la elongación o estiramiento (lineal) del resorte, y luego, calculando la derivada en un gráfico de la fuerza versus el estiramiento. "
   ]
  },
  {
   "cell_type": "markdown",
   "metadata": {},
   "source": [
    "#### - El valor de $\\large c$ es más complejo de medir. Se mide primero $\\zeta$ en lugar de $\\large c$ y una vez obtenido el valor de $\\zeta$, se despeja $\\large c$ de la ecuación: $\\zeta = \\large\\frac{c}{2\\,m\\,\\omega_{0}},$ donde $\\omega_{0}=\\sqrt{k/m}$ es la frecuencia angular natural (rad/s)."
   ]
  },
  {
   "cell_type": "markdown",
   "metadata": {},
   "source": [
    "<p style=\"text-align:center\">\n",
    "\t<img src=\"decre.png\" alt=\"MDOF\" width=45%/></a><br>\n",
    "    <strong> Figura 2: Desplazamiento $x(t)$ del tiempo sistema sub-amortiguado: masa, resorte y amortiguador, en vibración libre.</strong>\n",
    "</p>"
   ]
  },
  {
   "cell_type": "markdown",
   "metadata": {},
   "source": [
    "#### - Definición: Decremento logarítmico $\\large \\delta:$"
   ]
  },
  {
   "cell_type": "markdown",
   "metadata": {},
   "source": [
    "#### $\\large \\delta = \\text{ln}\\left( \\frac{x_{0}}{x_{1}} \\right) = \\frac{2\\,\\pi\\,\\zeta}{\\sqrt{1-\\zeta^{2}}}$\n",
    "> + Podemos despejar $\\zeta$ y expresarlo en función de $\\delta$:\n",
    "$$\n",
    "\\begin{align*}\n",
    "\\zeta &= \\frac{\\delta}{\\sqrt{\\delta^{2} + (2\\pi)^2}}\n",
    "\\end{align*}\n",
    "$$"
   ]
  },
  {
   "cell_type": "markdown",
   "metadata": {},
   "source": [
    "#### Esto significa que si medimos los desplazamientos peaks en dos tiempos diferentes, separados por un período, podemos determinar el valor de $\\delta$ y luego, obtener  $\\large \\zeta,$ y calcular el valor de $\\large c.$"
   ]
  },
  {
   "cell_type": "markdown",
   "metadata": {},
   "source": [
    "#### Ejercicio 1: \n",
    "La respuesta libre de un sistema amortiguado de un grado de libertad con masa $m = 2 \\,[kg]$ se mide y tiene la forma mostrada en la Fig. 3. El valor de la rigidez del resorte es $k = 1.5\\times 10^{3} \\,[N/m].$ El desplazamiento que alcanza en el primer peak es 1 [mm], mientras que en el segundo peak es de 0.1 [mm]. Calcular $\\zeta$ y $c$."
   ]
  },
  {
   "cell_type": "markdown",
   "metadata": {},
   "source": [
    "<p style=\"text-align:center\">\n",
    "\t<img src=\"ej.png\" alt=\"MDOF\" width=40%/></a><br>\n",
    "    <strong> Figura 3: Ejercicio 1.</strong>\n",
    "</p>"
   ]
  },
  {
   "cell_type": "markdown",
   "metadata": {},
   "source": [
    "$$\n",
    "\\begin{align*}\n",
    "\\frac{x(t1)}{x(t2)} &= e^{\\zeta\\omega_{0}(t2-t1)}\\\\\n",
    "&=e^{\\zeta\\omega_{0}T_{d}}\n",
    "\\end{align*}\n",
    "$$"
   ]
  },
  {
   "cell_type": "code",
   "execution_count": 18,
   "metadata": {},
   "outputs": [
    {
     "name": "stdout",
     "output_type": "stream",
     "text": [
      "1500.0\n",
      "2.1972245773362196\n",
      "0.3300974204390834\n",
      "36.160360669750574\n"
     ]
    }
   ],
   "source": [
    "import numpy as np\n",
    "m = 2.0\n",
    "k = 1.5*10**(3)\n",
    "print(k)\n",
    "xt1 = 9.0\n",
    "xt2 = 1.0\n",
    "d = np.log(xt1/xt2)\n",
    "print(d)\n",
    "num = d\n",
    "den = np.sqrt(num**2+(2*np.pi)**2)\n",
    "z = num/den\n",
    "print(z)\n",
    "## z = 33%\n",
    "c = 2*z*np.sqrt(k*m)\n",
    "print(c)\n",
    "## c = 36.15 (kg/s)"
   ]
  },
  {
   "cell_type": "markdown",
   "metadata": {},
   "source": [
    "#### Ejercicio 2:\n",
    "Sea un sistema de un grado de libertad en vibración libre amortiguada, calcularemos el decremento logarítmico y el factor de amortiguamiento del sistema."
   ]
  },
  {
   "cell_type": "markdown",
   "metadata": {},
   "source": [
    "Para un sistema viscosamente amortiguado se mide el desplazamiento de una vibración, obteniendo que el 75% de la amplitud decae con respecto al peak inmediatamente anterior. Calcular el factor de amortiguamiento $\\zeta$ para el sistema y el coeficiente de amortiguamiento viscoso $c.$"
   ]
  },
  {
   "cell_type": "markdown",
   "metadata": {},
   "source": [
    "<p style=\"text-align:center\">\n",
    "\t<img src=\"ej2.png\" alt=\"MDOF\" width=40%/></a><br>\n",
    "    <strong> Figura 4: Ejercicio 2.</strong>\n",
    "</p>"
   ]
  },
  {
   "cell_type": "markdown",
   "metadata": {},
   "source": [
    "#### Ejercicio 3:"
   ]
  },
  {
   "cell_type": "markdown",
   "metadata": {},
   "source": [
    "#### Usar Python para determinar:\n",
    "> 1. El período amortiguado $T_{d}$.\n",
    "> 1. La frecuencia natural angular $\\omega_{0}$.\n",
    "> 1. La razón de amortiguamiento $\\zeta$.\n",
    "> 1. La frecuencia amortiguada $\\omega_{d}$.\n",
    "> 1. El decremento logarítmico $\\delta$.\n",
    "> 1. Ilustrar los peaks de una vibración libre de desplazamiento amortiguado. \n",
    "> 1. Crear una función que reciba $\\zeta$ y $\\omega_{0}$. Y retorne los valores peaks de desplazamiento y retorne $T_{d}$, y las amplitudes peaks."
   ]
  },
  {
   "cell_type": "code",
   "execution_count": 51,
   "metadata": {},
   "outputs": [
    {
     "name": "stdout",
     "output_type": "stream",
     "text": [
      "[ 0.75075075  4.65465465  8.55855856 12.51251251 16.41641642 20.37037037]\n",
      "3.903903903903904\n",
      "X1 = 0.7901755262138713\n",
      "[0.79017553 0.22508624 0.06405902 0.01824807 0.00519674 0.00147871]\n",
      "X2 = 0.22508623721209037\n",
      "[0.79017553 0.22508624 0.06405902 0.01824807 0.00519674 0.00147871]\n",
      "X3 = 0.06405901917890822\n",
      "[0.79017553 0.22508624 0.06405902 0.01824807 0.00519674 0.00147871]\n",
      "X4 = 0.01824806665463726\n",
      "[0.79017553 0.22508624 0.06405902 0.01824807 0.00519674 0.00147871]\n",
      "X5 = 0.005196739297035521\n",
      "[0.79017553 0.22508624 0.06405902 0.01824807 0.00519674 0.00147871]\n",
      "X6 = 0.0014787141870244833\n",
      "[0.79017553 0.22508624 0.06405902 0.01824807 0.00519674 0.00147871]\n",
      "3.903903903903904 1.6094620825313863\n",
      "[0.79017553 0.22508624 0.06405902 0.01824807 0.00519674 0.00147871]\n",
      "1.2557715005915424\n",
      "0.19598624236798043\n",
      "21.46921718112352\n",
      "1.641292245212534\n"
     ]
    },
    {
     "data": {
      "image/png": "[encoded data removed]",
      "text/plain": [
       "<Figure size 720x432 with 1 Axes>"
      ]
     },
     "metadata": {
      "needs_background": "light"
     },
     "output_type": "display_data"
    }
   ],
   "source": [
    "%matplotlib inline\n",
    "import numpy as np\n",
    "import matplotlib.pyplot as plt\n",
    "from scipy.signal import find_peaks\n",
    "\n",
    "def desplazamiento(zeta, omega0):\n",
    "    fig  = plt.figure(figsize=(10,6))\n",
    "    axes = plt.gca()\n",
    "    plt.subplots_adjust(bottom = 0.1, left = 0.1, top = 0.96, right = 0.96)\n",
    "    plt.setp(axes.get_ymajorticklabels(), fontsize = 14)\n",
    "    plt.setp(axes.get_xmajorticklabels(), fontsize = 14)\n",
    "   \n",
    "    omegad   = omega0 * np.sqrt(1 - zeta**2)\n",
    "    t        = np.linspace(0, 50, num=1000)\n",
    "    # Parámetros x(0) = x_{0} y x_dot(0) = x_dot_{0}: son las condiciones inciales.  \n",
    "    x0       = [1.0, 0.0]\n",
    "    A        = np.sqrt(x0[0]**2 + ((x0[1] + zeta*omega0*x0[0])/omegad)**2)\n",
    "    phid     = np.arctan((x0[0]*omegad)/(x0[1] + zeta*omega0*x0[0]))\n",
    "   \n",
    "    #print(phid)\n",
    "    x1        = A*np.exp(-zeta*omega0*t)*np.cos(omegad*t-phid)\n",
    "    plt.plot(t, x1 ,linewidth = 3.0)\n",
    "    peaks, _ = find_peaks(x1, height=0.0011)\n",
    "    \n",
    "    tpeaks = t[peaks]\n",
    "    Td    = tpeaks[1]-tpeaks[0]\n",
    "    print(tpeaks)\n",
    "    print(Td)\n",
    "    \n",
    "   \n",
    "    n = 1 # Numero de oscilaciones necesarias para reducir la amplitud\n",
    "    for peak in peaks:\n",
    "        print(\"X\" + str(n) + \" = \" + str(x1[peak]))\n",
    "        xpeaks = x1[peaks]\n",
    "        #print(x1[peak])\n",
    "        print(xpeaks)\n",
    "        line = x1[peak]\n",
    "        plt.axhline(y=line, color='red', linestyle = ':', label='Old') # linestyle = ':' '--'\n",
    "        n = n + 1\n",
    "        plt.xlabel('$t$ (s)', family = 'serif', fontsize = 14, weight = 'bold')\n",
    "        plt.ylabel('Desplazamiento (m)', family = 'serif', fontsize = 14, weight = 'bold')\n",
    "        plt.grid(color = 'k', linestyle='--', linewidth=0.5)\n",
    "        plt.xlim(0,15)\n",
    "    return dif, xpeaks\n",
    "   \n",
    "Td, xpeaks = desplazamiento(zeta = 0.19604, omega0 = 1.6336)\n",
    "wd =2*np.pi/Td\n",
    "print(Td,wd)\n",
    "print(xpeaks)\n",
    "d = np.log(xpeaks[0]/xpeaks[1])\n",
    "print(d)\n",
    "num = d\n",
    "den = np.sqrt(num**2+(2*np.pi)**2)\n",
    "z = num/den\n",
    "print(z)\n",
    "c = 2*z*np.sqrt(k*m)\n",
    "print(c)\n",
    "## c = 21.47 (kg/s)\n",
    "w0 = wd/np.sqrt(1-z**2)\n",
    "print(w0)"
   ]
  },
  {
   "cell_type": "markdown",
   "metadata": {},
   "source": [
    "#### - Uso de barras interactivas:"
   ]
  },
  {
   "cell_type": "code",
   "execution_count": 52,
   "metadata": {},
   "outputs": [
    {
     "data": {
      "application/vnd.jupyter.widget-view+json": {
       "model_id": "3a013bca0dc34126b7caa570e515a706",
       "version_major": 2,
       "version_minor": 0
      },
      "text/plain": [
       "interactive(children=(FloatSlider(value=0.49, description='zeta', max=0.999, step=0.01), FloatSlider(value=19.…"
      ]
     },
     "metadata": {},
     "output_type": "display_data"
    }
   ],
   "source": [
    "import ipywidgets as widgets\n",
    "from ipywidgets import interactive\n",
    "from scipy.signal import find_peaks\n",
    "\n",
    "# zeta   : cambios en el factor de amortiguamiento, entre 0 and 0.999 a incremento de 0.01\n",
    "# omega0 : cambios en frecuencia angular natural, entre 0.00001 y 40.0 (rad/s) a incremento de 0.01 (rad/s)\n",
    "interactive_plot = interactive(desplazamiento, zeta = (0, 0.999, 0.01), omega0=(0.00001, 40, 0.01))\n",
    "\n",
    "output = interactive_plot.children[-1]\n",
    "output.layout.height = '2000px'\n",
    "interactive_plot"
   ]
  },
  {
   "cell_type": "code",
   "execution_count": null,
   "metadata": {},
   "outputs": [],
   "source": []
  }
 ],
 "metadata": {
  "kernelspec": {
   "display_name": "Python 3",
   "language": "python",
   "name": "python3"
  },
  "language_info": {
   "codemirror_mode": {
    "name": "ipython",
    "version": 3
   },
   "file_extension": ".py",
   "mimetype": "text/x-python",
   "name": "python",
   "nbconvert_exporter": "python",
   "pygments_lexer": "ipython3",
   "version": "3.6.9"
  }
 },
 "nbformat": 4,
 "nbformat_minor": 2
}

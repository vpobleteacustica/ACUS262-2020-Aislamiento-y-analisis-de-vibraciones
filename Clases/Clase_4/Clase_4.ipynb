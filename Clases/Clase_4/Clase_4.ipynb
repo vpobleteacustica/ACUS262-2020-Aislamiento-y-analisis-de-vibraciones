{
 "cells": [
  {
   "cell_type": "code",
   "execution_count": 1,
   "metadata": {},
   "outputs": [
    {
     "data": {
      "text/html": [
       "<!-- Mejorar visualización en proyector -->\n",
       "<style>\n",
       ".rendered_html {font-size: 1.2em; line-height: 150%;}\n",
       "div.prompt {min-width: 0ex; }\n",
       ".container {width:95% !important;}\n",
       "</style>\n"
      ],
      "text/plain": [
       "<IPython.core.display.HTML object>"
      ]
     },
     "metadata": {},
     "output_type": "display_data"
    }
   ],
   "source": [
    "%%HTML\n",
    "<!-- Mejorar visualización en proyector -->\n",
    "<style>\n",
    ".rendered_html {font-size: 1.2em; line-height: 150%;}\n",
    "div.prompt {min-width: 0ex; }\n",
    ".container {width:95% !important;}\n",
    "</style>"
   ]
  },
  {
   "cell_type": "markdown",
   "metadata": {},
   "source": [
    "<h1 style=\"text-align:center\">Clase 4: Continuación Ejercicio Clase 3 y análisis del caso de sistema de cuerpo rígido en rotación pura</h1>\n",
    "<h3 style=\"text-align:center\">ACUS262: Aislamiento y Análisis de Vibraciones</h3>\n",
    "<p style=\"text-align:center\">Dr. Víctor Poblete <br>\n",
    "<a href=\"mailto:vpoblete@uach.cl\">vpoblete@uach.cl</a><br>\n",
    "<a href=\"https://github.com/vpobleteacustica/ACUS262-Aislamiento-y-analisis-de-vibraciones\">https://github.com/vpobleteacustica/ACUS262-Aislamiento-y-analisis-de-vibraciones</a><br> \n",
    "<a href=\"http://www.acusticauach.cl\">www.acusticauach.cl</a><br> "
   ]
  },
  {
   "cell_type": "markdown",
   "metadata": {},
   "source": [
    "<p style=\"text-align:center\">\n",
    "\t<img src=\"Fig1.png\" alt=\"Sistema de cuerpo de rígido en traslación horizontal\" width=25%/></a><br>\n",
    "    <strong> Figura 1: Sistema de cuerpo de rígido en traslación horizontal. </strong>\n",
    "</p>"
   ]
  },
  {
   "cell_type": "markdown",
   "metadata": {},
   "source": [
    "<p style=\"text-align:center\">\n",
    "\t<img src=\"Fig2.png\" alt=\"Diagrama de cuerpo libre\" width=25%/></a><br>\n",
    "    <strong> Figura 2: Diagrama de cuerpo libre. </strong>\n",
    "</p>"
   ]
  },
  {
   "cell_type": "markdown",
   "metadata": {},
   "source": [
    "Las ecuaciones de fuerza son:"
   ]
  },
  {
   "cell_type": "markdown",
   "metadata": {},
   "source": [
    "\\begin{align*}\n",
    "{\\text{F}_{\\text{x}}}&={\\text{F}}\\,{\\text{cos}}\\,\\beta\\,-\\mu\\,{\\text{N}}_{\\text{B}}={\\text{m}}{\\text{a}}_{\\text{x}}\\\\\n",
    "{\\text{F}_{\\text{y}}}&={\\text{F}}\\,{\\text{sen}}\\,\\beta\\,+{\\text{N}}_{\\text{B}}\\,-{\\text{mg}}=0\n",
    "\\end{align*}"
   ]
  },
  {
   "cell_type": "markdown",
   "metadata": {},
   "source": [
    "Se tienen tres incógnitas: ${\\text{F}},$ ${\\text{N}}_{\\text{B}}$ y ${\\text{a}}_{\\text{x}}$, pero sólo dos ecuaciones. Se usa, por lo tanto, como tercera ecuación el momento de la fuerza en torno al centro de masa $\\text{C}$. Si el cuerpo se traslada en dirección ${\\text{x}}$ y no sufre rotaciones, entonces la magnitud del momento de la fuerza en torno a $\\text{C}$ debe ser igual a cero: ${\\text{M}}_{\\text{C}}=0$ "
   ]
  },
  {
   "cell_type": "markdown",
   "metadata": {},
   "source": [
    "#### Magnitud y convención de signos del momento de la fuerza en torno a $\\text{C}$"
   ]
  },
  {
   "cell_type": "markdown",
   "metadata": {},
   "source": [
    "La magnitud del momento de la fuerza en torno a $\\text{C}$, ${\\text{M}}_{\\text{C}}$ es igual a la distancia perpendicular medida desde $\\text{C}$ a la línea de acción de la fuerza, multiplicada por la magnitud de la fuerza. La dirección del momento está dada por la regla de la mano derecha: Si sale del papel, tiene signo positivo, los dedos de la mano apuntan en sentido contrario a las manecillas del reloj. Mientras que, si se mete en la hoja, tiene signo negativo, los dedos de la mano apuntan en sentido de las manecillas del reloj."
   ]
  },
  {
   "cell_type": "markdown",
   "metadata": {},
   "source": [
    "<p style=\"text-align:center\">\n",
    "\t<img src=\"Convencion.png\" alt=\"Convención de signos\" width=25%/></a><br>\n",
    "    <strong> Figura 3: Convención de signos del momento de la fuerza en torno a centro de masa ${\\text{C}}$. </strong>\n",
    "</p>"
   ]
  },
  {
   "cell_type": "markdown",
   "metadata": {},
   "source": [
    "Primero, si se analiza por el lado superior izquierdo en sentido horizontal, como se muestra en la Fig. 3, se obtiene ${\\text{M}}_{\\text{C1}}$"
   ]
  },
  {
   "cell_type": "markdown",
   "metadata": {},
   "source": [
    "\\begin{align*}\n",
    "{\\text{M}}_{\\text{C1}}&=-\\,{\\text{F}}\\,{\\text{cos}}\\,\\beta \\cdot \\frac{{\\text{H}}}{2}\n",
    "\\end{align*}"
   ]
  },
  {
   "cell_type": "markdown",
   "metadata": {},
   "source": [
    "Segundo, si se observa el punto de contacto del lado derecho inferior en dirección horizontal, se obtiene ${\\text{M}}_{\\text{C2}}$ "
   ]
  },
  {
   "cell_type": "markdown",
   "metadata": {},
   "source": [
    "\\begin{align*}\n",
    "{\\text{M}}_{\\text{C2}}&=-\\,\\mu {\\text{N}}_{\\text{B}}\\cdot \\bigg(\\frac{{\\text{H}}}{2}+D\\bigg)\n",
    "\\end{align*}"
   ]
  },
  {
   "cell_type": "markdown",
   "metadata": {},
   "source": [
    "En sentido vertical, si se observa el punto de contacto en la esquina inferior derecha, hay una fuerza que resulta de dos componentes: $({\\text{N}}_{\\text{B}} - {\\text{F}}\\,{\\text{sen}}\\,\\beta)$"
   ]
  },
  {
   "cell_type": "markdown",
   "metadata": {},
   "source": [
    "<p style=\"text-align:center\">\n",
    "\t<img src=\"Vertical.png\" alt=\"Momento de la fuerza vertical\" width=20%/></a><br>\n",
    "    <strong> Figura 4: En dirección vertical, en el punto de contacto ${\\text{B}}$, lado derecho inferior, hay dos componentes de la fuerza. </strong>\n",
    "</p>"
   ]
  },
  {
   "cell_type": "markdown",
   "metadata": {},
   "source": [
    "\\begin{align*}\n",
    "{\\text{M}}_{\\text{C3}}&=({\\text{N}}_{\\text{B}} - {\\text{F}}\\,{\\text{sen}}\\,\\beta)\\cdot \\frac{{\\text{L}}}{2} \n",
    "\\end{align*}"
   ]
  },
  {
   "cell_type": "markdown",
   "metadata": {},
   "source": [
    "Por lo tanto,"
   ]
  },
  {
   "cell_type": "markdown",
   "metadata": {},
   "source": [
    "\\begin{align*}\n",
    "{\\text{M}}_{\\text{C}}&={\\text{M}}_{\\text{C1}}+{\\text{M}}_{\\text{C2}}+{\\text{M}}_{\\text{C3}}\\\\\n",
    "&=-\\,{\\text{F}}\\,{\\text{cos}}\\,\\beta \\cdot \\frac{{\\text{H}}}{2}-\\,\\mu {\\text{N}}_{\\text{B}}\\cdot \\bigg(\\frac{{\\text{H}}}{2}+D\\bigg)+({\\text{N}}_{\\text{B}} - {\\text{F}}\\,{\\text{sen}}\\,\\beta)\\cdot \\frac{{\\text{L}}}{2} \n",
    "\\end{align*}"
   ]
  },
  {
   "cell_type": "markdown",
   "metadata": {},
   "source": [
    "En consecuencia, y debido a que no hay rotación, la tercera ecuación será:"
   ]
  },
  {
   "cell_type": "markdown",
   "metadata": {},
   "source": [
    "\\begin{align*}\n",
    "-\\,{\\text{F}}\\,{\\text{cos}}\\,\\beta \\cdot \\frac{{\\text{H}}}{2}-\\,\\mu {\\text{N}}_{\\text{B}}\\cdot \\bigg(\\frac{{\\text{H}}}{2}+D\\bigg)+({\\text{N}}_{\\text{B}} - {\\text{F}}\\,{\\text{sen}}\\,\\beta)\\cdot \\frac{{\\text{L}}}{2} &=0\n",
    "\\end{align*}"
   ]
  },
  {
   "cell_type": "markdown",
   "metadata": {},
   "source": [
    "En resumen, se tienen tres ecuaciones:"
   ]
  },
  {
   "cell_type": "markdown",
   "metadata": {},
   "source": [
    "\\begin{align}\n",
    "{\\text{F}_{\\text{x}}}&={\\text{F}}\\,{\\text{cos}}\\,\\beta\\,-\\mu\\,{\\text{N}}_{\\text{B}}={\\text{m}}{\\text{a}}_{\\text{x}}\n",
    "\\label{eq1}\\tag{1}\n",
    "\\end{align}"
   ]
  },
  {
   "cell_type": "markdown",
   "metadata": {},
   "source": [
    "\\begin{align}\n",
    "{\\text{F}_{\\text{y}}}&={\\text{F}}\\,{\\text{sen}}\\,\\beta\\,+{\\text{N}}_{\\text{B}}\\,-{\\text{mg}}=0\n",
    "\\label{eq2}\\tag{2}\n",
    "\\end{align}"
   ]
  },
  {
   "cell_type": "markdown",
   "metadata": {},
   "source": [
    "\\begin{align}\n",
    "-\\,{\\text{F}}\\,{\\text{cos}}\\,\\beta \\cdot \\frac{{\\text{H}}}{2}-\\,\\mu {\\text{N}}_{\\text{B}}\\cdot \\bigg(\\frac{{\\text{H}}}{2}+{\\text{D}}\\bigg)+({\\text{N}}_{\\text{B}} - {\\text{F}}\\,{\\text{sen}}\\,\\beta)\\cdot \\frac{{\\text{L}}}{2} &=0\n",
    "\\label{eq3}\\tag{3}\n",
    "\\end{align}"
   ]
  },
  {
   "cell_type": "markdown",
   "metadata": {},
   "source": [
    "De la Ec. (2) se despeja ${\\text{N}_{\\text{B}}}$"
   ]
  },
  {
   "cell_type": "markdown",
   "metadata": {},
   "source": [
    "\\begin{align*}\n",
    "{\\text{N}}_{\\text{B}}&={\\text{mg}}\\,-\\,{\\text{F}}\\,{\\text{sen}}\\,\\beta\n",
    "\\end{align*}"
   ]
  },
  {
   "cell_type": "markdown",
   "metadata": {},
   "source": [
    "La Ec. (3) se escribe como:"
   ]
  },
  {
   "cell_type": "markdown",
   "metadata": {},
   "source": [
    "\\begin{align*}\n",
    "({\\text{N}}_{\\text{B}} - {\\text{F}}\\,{\\text{sen}}\\,\\beta)\\cdot \\frac{{\\text{L}}}{2} &={\\text{F}}\\,{\\text{cos}}\\,\\beta \\cdot \\frac{{\\text{H}}}{2}\\,+\\,\\mu {\\text{N}}_{\\text{B}}\\cdot \\bigg(\\frac{{\\text{H}}}{2}+{\\text{D}}\\bigg)\n",
    "\\end{align*}"
   ]
  },
  {
   "cell_type": "markdown",
   "metadata": {},
   "source": [
    "\\begin{align*}\n",
    "{\\text{N}}_{\\text{B}} \\cdot \\frac{{\\text{L}}}{2} \\,-\\,{\\text{F}}\\,{\\text{sen}}\\,\\beta\\cdot \\frac{{\\text{L}}}{2}&={\\text{F}}\\,{\\text{cos}}\\,\\beta \\cdot \\frac{{\\text{H}}}{2}\\,+\\,\\mu {\\text{N}}_{\\text{B}}\\cdot \\bigg(\\frac{{\\text{H}}}{2}+{\\text{D}}\\bigg)\n",
    "\\end{align*}"
   ]
  },
  {
   "cell_type": "markdown",
   "metadata": {},
   "source": [
    "\\begin{align*}\n",
    "({\\text{mg}}\\,-\\,{\\text{F}}\\,{\\text{sen}}\\,\\beta) \\cdot \\frac{{\\text{L}}}{2} \\,-\\,{\\text{F}}\\,{\\text{sen}}\\,\\beta\\cdot \\frac{{\\text{L}}}{2}&={\\text{F}}\\,{\\text{cos}}\\,\\beta \\cdot \\frac{{\\text{H}}}{2}\\,+\\,\\mu {\\text{N}}_{\\text{B}}\\cdot \\bigg(\\frac{{\\text{H}}}{2}+{\\text{D}}\\bigg)\n",
    "\\end{align*}"
   ]
  },
  {
   "cell_type": "markdown",
   "metadata": {},
   "source": [
    "\\begin{align*}\n",
    "{\\text{mg}}\\cdot \\frac{{\\text{L}}}{2} -{\\text{F}}\\,{\\text{sen}}\\,\\beta \\cdot {\\text{L}} &={\\text{F}}\\,{\\text{cos}}\\,\\beta \\cdot \\frac{{\\text{H}}}{2}\\,+\\,\\mu {\\text{N}}_{\\text{B}}\\cdot \\bigg(\\frac{{\\text{H}}}{2}+{\\text{D}}\\bigg)\n",
    "\\end{align*}"
   ]
  },
  {
   "cell_type": "markdown",
   "metadata": {},
   "source": [
    "Si se multiplica por $2$ a ambos lados:"
   ]
  },
  {
   "cell_type": "markdown",
   "metadata": {},
   "source": [
    "\\begin{align*}\n",
    "{\\text{mg}}\\cdot {\\text{L}} -\\,2\\,{\\text{F}}\\,{\\text{sen}}\\,\\beta \\cdot {\\text{L}} &={\\text{F}}\\,{\\text{cos}}\\,\\beta \\cdot {\\text{H}}\\,+\\,2\\mu {\\text{N}}_{\\text{B}}\\cdot {\\text{D}}+\\,\\mu {\\text{N}}_{\\text{B}}\\cdot {\\text{H}}\n",
    "\\end{align*}"
   ]
  },
  {
   "cell_type": "markdown",
   "metadata": {},
   "source": [
    "Si se ordena:"
   ]
  },
  {
   "cell_type": "markdown",
   "metadata": {},
   "source": [
    "\\begin{align*}\n",
    "{\\text{F}}\\,{\\text{cos}}\\,\\beta \\cdot {\\text{H}}\\,+2\\,{\\text{F}}\\,{\\text{sen}}\\,\\beta \\cdot {\\text{L}}-{\\text{mg}}\\cdot {\\text{L}}+2\\mu {\\text{D}}\\cdot({\\text{mg}}\\,-\\,{\\text{F}}\\,{\\text{sen}}\\,\\beta)+\\,\\mu {\\text{H}}\\cdot ( {\\text{mg}}\\,-\\,{\\text{F}}\\,{\\text{sen}}\\,\\beta) &=0\n",
    "\\end{align*}"
   ]
  },
  {
   "cell_type": "markdown",
   "metadata": {},
   "source": [
    "Al factorizar:"
   ]
  },
  {
   "cell_type": "markdown",
   "metadata": {},
   "source": [
    "\\begin{align*}\n",
    "{\\text{F}}\\,{\\text{cos}}\\,\\beta \\cdot {\\text{H}}\\,+{\\text{F}}\\,{\\text{sen}}\\,\\beta \\cdot ({\\text{2L}}-2\\mu {\\text{D}} -\\mu {\\text{H}}) - {\\text{mg}}\\cdot({\\text{L}}-2\\mu {\\text{D}} -\\mu {\\text{H}}) &=0\n",
    "\\end{align*}"
   ]
  },
  {
   "cell_type": "markdown",
   "metadata": {},
   "source": [
    "Si se separan términos y se factoriza:"
   ]
  },
  {
   "cell_type": "markdown",
   "metadata": {},
   "source": [
    "\\begin{align*}\n",
    "{\\text{F}}\\bigg({\\text{H}}\\cdot{\\text{cos}}\\,\\beta + ({\\text{2L}}-2\\mu {\\text{D}} -\\mu {\\text{H}})\\cdot{\\text{sen}}\\,\\beta\\bigg)  &={\\text{mg}}\\cdot({\\text{L}}-2\\mu {\\text{D}} -\\mu {\\text{H}})\n",
    "\\end{align*}"
   ]
  },
  {
   "cell_type": "markdown",
   "metadata": {},
   "source": [
    "De donde:"
   ]
  },
  {
   "cell_type": "markdown",
   "metadata": {},
   "source": [
    "\\begin{align*}\n",
    "\\frac{{\\text{F}}}{{\\text{mg}}}&=\\frac{{\\text{L}}-2\\mu {\\text{D}} -\\mu {\\text{H}}}{{\\text{H}}\\cdot{\\text{cos}}\\,\\beta + ({\\text{2L}}-2\\mu {\\text{D}} -\\mu {\\text{H}})\\cdot{\\text{sen}}\\,\\beta}\n",
    "\\end{align*}"
   ]
  },
  {
   "cell_type": "markdown",
   "metadata": {},
   "source": [
    "Ahora, se pueden reemplazar los valores iniciales dados en el problema y se encuentra que:"
   ]
  },
  {
   "cell_type": "markdown",
   "metadata": {},
   "source": [
    "\\begin{align*}\n",
    "\\frac{{\\text{F}}}{{\\text{mg}}}&=0.4547\n",
    "\\end{align*}"
   ]
  },
  {
   "cell_type": "markdown",
   "metadata": {},
   "source": [
    "A continuación, se re-escribe ${\\text{N}}_{\\text{B}}$ como:"
   ]
  },
  {
   "cell_type": "markdown",
   "metadata": {},
   "source": [
    "\\begin{align*}\n",
    "{\\text{N}}_{\\text{B}}&={\\text{mg}}\\,-\\,{\\text{F}}\\,{\\text{sen}}\\,\\beta={\\text{mg}}\\bigg( 1-\\frac{{\\text{F}}}{{\\text{mg}}}\\,{\\text{sen}}\\,\\beta\\bigg)\n",
    "\\end{align*}"
   ]
  },
  {
   "cell_type": "markdown",
   "metadata": {},
   "source": [
    "Y si se usa la Ec. (1)"
   ]
  },
  {
   "cell_type": "markdown",
   "metadata": {},
   "source": [
    "\\begin{align*}\n",
    "{\\text{F}}\\,{\\text{cos}}\\,\\beta\\,-\\mu\\,{\\text{N}}_{\\text{B}}={\\text{m}}{\\text{a}}_{\\text{x}}\n",
    "\\end{align*}"
   ]
  },
  {
   "cell_type": "markdown",
   "metadata": {},
   "source": [
    "\\begin{align*}\n",
    "{\\text{a}}_{\\text{x}}&=\\frac{1}{{\\text{m}}}\\bigg( {\\text{F}}\\,{\\text{cos}}\\,\\beta -\\mu\\cdot {\\text{mg}}\\bigg( 1-\\frac{{\\text{F}}}{{\\text{mg}}}\\,{\\text{sen}}\\,\\beta\\bigg) \\bigg)\n",
    "\\end{align*}"
   ]
  },
  {
   "cell_type": "markdown",
   "metadata": {},
   "source": [
    "Si se factoriza al lado derecho por ${\\text{mg}}$"
   ]
  },
  {
   "cell_type": "markdown",
   "metadata": {},
   "source": [
    "\\begin{align*}\n",
    "{\\text{a}}_{\\text{x}}&=\\frac{{\\text{mg}}}{{\\text{m}}}\\bigg( \\frac{\\text{F}}{\\text{mg}}\\,{\\text{cos}}\\,\\beta -\\mu\\cdot \\bigg( 1-\\frac{{\\text{F}}}{{\\text{mg}}}\\,{\\text{sen}}\\,\\beta\\bigg) \\bigg)\n",
    "\\end{align*}"
   ]
  },
  {
   "cell_type": "markdown",
   "metadata": {},
   "source": [
    "Por lo tanto, se obtiene:"
   ]
  },
  {
   "cell_type": "markdown",
   "metadata": {},
   "source": [
    "\\begin{align*}\n",
    "\\frac{{\\text{a}}_{\\text{x}}}{{\\text{m}}}&=0.4547\\cdot{\\text{cos}}\\,\\beta - \\frac{1}{2}\\cdot\\bigg( 1-0.4547\\,{\\text{sen}}\\,\\beta\\bigg)\n",
    "\\end{align*}"
   ]
  },
  {
   "cell_type": "markdown",
   "metadata": {},
   "source": [
    "### Cuerpo rígido en rotación pura en torno a un punto fijo ${\\text{0}}$"
   ]
  },
  {
   "cell_type": "markdown",
   "metadata": {},
   "source": [
    "El movimiento se describe por la ecuación de momento de la fuerza:"
   ]
  },
  {
   "cell_type": "markdown",
   "metadata": {},
   "source": [
    "Si se recuerda que para el caso de un sistema de partículas, la ecuación de momento de la fuerza en torno a un punto fijo ${\\text{0}}$:"
   ]
  },
  {
   "cell_type": "markdown",
   "metadata": {},
   "source": [
    "\\begin{align*}\n",
    "{\\bf{M}}_{\\text{0}}&=\\,\\sum_{i=1}^{N}{\\bf{r}}_{i}\\times {\\bf{F}}_{i}\n",
    "\\end{align*}"
   ]
  },
  {
   "cell_type": "markdown",
   "metadata": {},
   "source": [
    "Ahora, para el sistema de cuerpo rígido, la ecuación de momento de la fuerza o torque, resultante alrededor del punto fijo ${\\text{0}}$ es: "
   ]
  },
  {
   "cell_type": "markdown",
   "metadata": {},
   "source": [
    "\\begin{align*}\n",
    "{\\bf{M}}_{\\text{0}}&=\\int_{{\\text{cuerpo}}}^{}{\\bf{r}}\\times \\text{d}{\\bf{{\\text{F}}}}\n",
    "\\end{align*}"
   ]
  },
  {
   "cell_type": "markdown",
   "metadata": {},
   "source": [
    "También, en el sistema de partículas, el momentum angular del cuerpo en torno al punto fijo ${\\text{0}}$, "
   ]
  },
  {
   "cell_type": "markdown",
   "metadata": {},
   "source": [
    "\\begin{align*}\n",
    "{\\bf{H}}_{\\text{0}}&=\\,\\sum_{i=1}^{N}{\\bf{r}}_{i}\\times m_{i}{\\bf{\\dot{r}}}_{i}\n",
    "\\end{align*}"
   ]
  },
  {
   "cell_type": "markdown",
   "metadata": {},
   "source": [
    "Mientras que en el caso de cuerpo rígido:"
   ]
  },
  {
   "cell_type": "markdown",
   "metadata": {},
   "source": [
    "\\begin{align*}\n",
    "{\\bf{H}}_{\\text{0}}&=\\int_{{\\text{cuerpo}}}^{}{\\bf{r}}\\times {\\bf{{\\text{v}}}}\\, \\text{dm}\n",
    "\\end{align*}"
   ]
  },
  {
   "cell_type": "markdown",
   "metadata": {},
   "source": [
    "Pero, en el caso de rotación pura en un plano, "
   ]
  },
  {
   "cell_type": "markdown",
   "metadata": {},
   "source": [
    "\\begin{align*}\n",
    "{\\bf{{\\text{v}}}}&=r\\,\\dot{\\theta}\\,\\hat{\\theta}=r\\,\\omega\\,\\hat{\\theta}\n",
    "\\end{align*}"
   ]
  },
  {
   "cell_type": "markdown",
   "metadata": {},
   "source": [
    "Reemplazando:"
   ]
  },
  {
   "cell_type": "markdown",
   "metadata": {},
   "source": [
    "\\begin{align*}\n",
    "{\\bf{H}}_{\\text{0}}&=\\int_{{\\text{cuerpo}}}^{}r\\,\\hat{r}\\,\\times\\,r\\,\\omega\\,\\hat{\\theta}\\,\\,\\text{dm}= \\Bigg(\\int_{{\\text{cuerpo}}}^{} r^{2}\\,\\text{dm} \\Bigg)\\,\\omega\\, \\hat{k}\\,=\\,{\\text{I}}_{\\text{0}}\\,\\omega\\, \\hat{k}\n",
    "\\end{align*}"
   ]
  },
  {
   "cell_type": "markdown",
   "metadata": {},
   "source": [
    "con"
   ]
  },
  {
   "cell_type": "markdown",
   "metadata": {},
   "source": [
    "\\begin{align*}\n",
    "{\\text{I}}_{\\text{0}}&=\\int_{{\\text{cuerpo}}}^{} r^{2}\\,\\text{dm}\n",
    "\\end{align*}"
   ]
  },
  {
   "cell_type": "markdown",
   "metadata": {},
   "source": [
    "el momento de inercia del cuerpo rígido en torno al punto fijo ${\\text{0}}.$ Por lo tanto, para movimiento planar, el momentum angular solamente tiene una componente: "
   ]
  },
  {
   "cell_type": "markdown",
   "metadata": {},
   "source": [
    "\\begin{align*}\n",
    "{\\bf{H}}_{\\text{0}}&={\\text{I}}_{\\text{0}}\\,\\omega\\, \\hat{k}\n",
    "\\end{align*}"
   ]
  },
  {
   "cell_type": "markdown",
   "metadata": {},
   "source": [
    "Si se deriva con respecto al tiempo:"
   ]
  },
  {
   "cell_type": "markdown",
   "metadata": {},
   "source": [
    "\\begin{align*}\n",
    "{\\bf{\\dot{H}}}_{\\text{0}}&={\\text{I}}_{\\text{0}}\\,{\\dot{\\omega}}\\, \\hat{k}={\\text{I}}_{\\text{0}}\\,{\\alpha}\\, \\hat{k}\n",
    "\\end{align*}"
   ]
  },
  {
   "cell_type": "markdown",
   "metadata": {},
   "source": [
    "con $\\alpha$ la aceleración angular del cuerpo. Pero, dado que se cumple la relación:"
   ]
  },
  {
   "cell_type": "markdown",
   "metadata": {},
   "source": [
    "\\begin{align*}\n",
    "{\\bf{\\dot{H}}}_{\\text{0}}&={\\bf{M}}_{\\text{0}}\n",
    "\\end{align*}"
   ]
  },
  {
   "cell_type": "markdown",
   "metadata": {},
   "source": [
    "entonces, el momento de la fuerza será:"
   ]
  },
  {
   "cell_type": "markdown",
   "metadata": {},
   "source": [
    "\\begin{align*}\n",
    "{\\bf{M}}_{\\text{0}}&={\\text{I}}_{\\text{0}}\\,{\\alpha}\\, \\hat{k}\n",
    "\\end{align*}Primero"
   ]
  },
  {
   "cell_type": "markdown",
   "metadata": {},
   "source": [
    "#### Ejercicio 2: El péndulo compuesto"
   ]
  },
  {
   "cell_type": "markdown",
   "metadata": {},
   "source": [
    "Un cuerpo rígido suspendido desde un punto distinto al centro de masa y libre de oscilar, se conoce como péndulo compuesto. Suponer que se tiene el siguiente péndulo compuesto, consistente de una barra uniforme de masa total ${\\text{m}}$ que cuelga en un punto ${\\text{0}}$ a una distancia $\\frac{{\\text{L}}}{6}$ del centro de masa ${\\text{C}}$. Si el péndulo se libera desde el reposo, en la posición horizontal, determinar la aceleración angular $\\alpha$ del péndulo inmediatamente después de liberarse."
   ]
  },
  {
   "cell_type": "markdown",
   "metadata": {},
   "source": [
    "<p style=\"text-align:center\">\n",
    "\t<img src=\"compuesto.png\" alt=\"Péndulo compuesto\" width=25%/></a><br>\n",
    "    <strong> Figura 5: Péndulo compuesto. </strong>\n",
    "</p>"
   ]
  },
  {
   "cell_type": "markdown",
   "metadata": {},
   "source": [
    "#### Solución"
   ]
  },
  {
   "cell_type": "markdown",
   "metadata": {},
   "source": [
    "Aquí, se aplica la relación: $\\text{M}_{\\text{0}}={\\text{I}}_{\\text{0}}\\,{\\alpha}$. Para obtener $\\text{M}_{\\text{0}}$ se deduce de la Fig. 5, que: "
   ]
  },
  {
   "cell_type": "markdown",
   "metadata": {},
   "source": [
    "\\begin{align*}\n",
    "\\text{M}_{\\text{0}}&=-\\,{\\text{mg}}\\,\\frac{\\text{L}}{6}\n",
    "\\end{align*}"
   ]
  },
  {
   "cell_type": "markdown",
   "metadata": {},
   "source": [
    "<p style=\"text-align:center\">\n",
    "\t<img src=\"convencion2.png\" alt=\"Péndulo compuesto\" width=20%/></a><br>\n",
    "    <strong> Figura 6: Momento de la fuerza en torno al punto fijo ${\\text{0}}$. </strong>\n",
    "</p>"
   ]
  },
  {
   "cell_type": "markdown",
   "metadata": {},
   "source": [
    "Luego, se calcula el momento de inercia de la barra:"
   ]
  },
  {
   "cell_type": "markdown",
   "metadata": {},
   "source": [
    "\\begin{align*}\n",
    "{\\text{I}}_{\\text{0}}&=\\int_{{\\text{cuerpo}}}^{} x^{2}\\,\\text{dm}\n",
    "\\end{align*}"
   ]
  },
  {
   "cell_type": "markdown",
   "metadata": {},
   "source": [
    "con "
   ]
  },
  {
   "cell_type": "markdown",
   "metadata": {},
   "source": [
    "\\begin{align*}\n",
    "\\text{dm}&=\\rho\\, \\text{dx}=\\frac{m}{L}\\, \\text{dx}\n",
    "\\end{align*}"
   ]
  },
  {
   "cell_type": "markdown",
   "metadata": {},
   "source": [
    "Por lo que se obtiene:"
   ]
  },
  {
   "cell_type": "markdown",
   "metadata": {},
   "source": [
    "\\begin{align*}\n",
    "{\\text{I}}_{\\text{0}}&=\\frac{\\text{m}}{L}\\,\\int_{-\\frac{L}{3}}^{\\frac{2L}{3}} x^{2}\\,\\text{dx}\\\\\n",
    "&= \\frac{\\text{m}\\,\\text{L}^{2}}{9}\n",
    "\\end{align*}"
   ]
  },
  {
   "cell_type": "markdown",
   "metadata": {},
   "source": [
    "Por lo tanto, la aceleración angular $\\alpha$ está dado por:"
   ]
  },
  {
   "cell_type": "markdown",
   "metadata": {},
   "source": [
    "\\begin{align*}\n",
    "\\alpha&=\\frac{\\text{M}_{\\text{0}}}{{\\text{I}}_{\\text{0}}}=-\\frac{3\\,{\\text{g}}}{2\\,{\\text{L}}}\n",
    "\\end{align*}"
   ]
  },
  {
   "cell_type": "markdown",
   "metadata": {},
   "source": [
    "El signo menos indica que la aceleración angular sigue el sentido de las manecillas del reloj, esto es, va en el sentido contrario al señalado en la Fig. 5."
   ]
  },
  {
   "cell_type": "markdown",
   "metadata": {},
   "source": [
    "### Movimiento general plano referido al centro de masa: traslación y rotación al mismo tiempo."
   ]
  },
  {
   "cell_type": "markdown",
   "metadata": {},
   "source": [
    "En este caso, se comienza desde la ecuación de fuerza:"
   ]
  },
  {
   "cell_type": "markdown",
   "metadata": {},
   "source": [
    "\\begin{align*}\n",
    "{\\bf{F}}&=m\\,{\\bf{\\ddot{\\text{r}}}}_{C}\n",
    "\\end{align*}"
   ]
  },
  {
   "cell_type": "markdown",
   "metadata": {},
   "source": [
    "Además, se cumple la relación:"
   ]
  },
  {
   "cell_type": "markdown",
   "metadata": {},
   "source": [
    "\\begin{align*}\n",
    "{\\bf{M}}_{\\text{C}}&={\\bf{\\dot{H}}}_{\\text{C}}\n",
    "\\end{align*}"
   ]
  },
  {
   "cell_type": "markdown",
   "metadata": {},
   "source": [
    "Y por tratarse de un movimiento planar:"
   ]
  },
  {
   "cell_type": "markdown",
   "metadata": {},
   "source": [
    "\\begin{align*}\n",
    "{\\bf{M}}_{\\text{C}}&={\\text{M}}_{\\text{C}}\\,\\hat{k}\n",
    "\\end{align*}"
   ]
  },
  {
   "cell_type": "markdown",
   "metadata": {},
   "source": [
    "Por analogía, además, con el caso de momentum angular con respecto a un punto fijo ${\\text{0}}$"
   ]
  },
  {
   "cell_type": "markdown",
   "metadata": {},
   "source": [
    "\\begin{align*}\n",
    "{\\bf{H}}_{\\text{C}}&={\\text{I}}_{\\text{C}}\\,\\omega\\, \\hat{k}\n",
    "\\end{align*}"
   ]
  },
  {
   "cell_type": "markdown",
   "metadata": {},
   "source": [
    "con ${\\text{I}}_{\\text{C}}$ el momento de inercia del cuerpo rígido con respecto al centro de masa. Por lo tanto, ya que es un movimiento planar,"
   ]
  },
  {
   "cell_type": "markdown",
   "metadata": {},
   "source": [
    "\\begin{align*}\n",
    "{\\text{F}}_{\\text{x}}&={\\text{m}}\\,{\\text{a}}\\,_{\\text{c}_{x}}\n",
    "\\end{align*}"
   ]
  },
  {
   "cell_type": "markdown",
   "metadata": {},
   "source": [
    "\\begin{align*}\n",
    "{\\text{F}}_{\\text{y}}&={\\text{m}}\\,{\\text{a}}\\,_{\\text{c}_{y}}\n",
    "\\end{align*}"
   ]
  },
  {
   "cell_type": "markdown",
   "metadata": {},
   "source": [
    "\\begin{align*}\n",
    "{\\text{M}}_{\\text{C}}&={\\text{I}}_{\\text{C}}\\,\\alpha\n",
    "\\end{align*}"
   ]
  },
  {
   "cell_type": "markdown",
   "metadata": {},
   "source": [
    "donde $\\alpha$ es la aceleración angular del cuerpo."
   ]
  },
  {
   "cell_type": "markdown",
   "metadata": {},
   "source": [
    "#### Ejercicio 3: "
   ]
  },
  {
   "cell_type": "markdown",
   "metadata": {},
   "source": [
    "Una barra rígida, uniforme, de masa total ${\\text{m}}$ y longitud ${\\text{L}_{\\text{2}}}$, está suspendida en el punto ${\\text{0}}$ por una cuerda de longitud ${\\text{L}_{\\text{1}}}$. Sobre la barra actúa una fuerza horizontal ${\\text{F}}$ como se muestra en la Fig. 7."
   ]
  },
  {
   "cell_type": "markdown",
   "metadata": {},
   "source": [
    "<p style=\"text-align:center\">\n",
    "\t<img src=\"barra.jpg\" alt=\"Barra rígida\" width=30%/></a><br>\n",
    "    <strong> Figura 7: Barra rígida sobre una cuerda. </strong>\n",
    "</p>"
   ]
  },
  {
   "cell_type": "markdown",
   "metadata": {},
   "source": [
    "Usar los desplazamientos angulares $\\theta_{\\text{1}}$ y $\\theta_{\\text{2}}$ para definir la posición, velocidad y aceleración del centro de masa $\\text{C}$, en términos de los ejes del cuerpo $\\hat{r}$"
   ]
  },
  {
   "cell_type": "code",
   "execution_count": null,
   "metadata": {},
   "outputs": [],
   "source": []
  }
 ],
 "metadata": {
  "kernelspec": {
   "display_name": "Python 3",
   "language": "python",
   "name": "python3"
  },
  "language_info": {
   "codemirror_mode": {
    "name": "ipython",
    "version": 3
   },
   "file_extension": ".py",
   "mimetype": "text/x-python",
   "name": "python",
   "nbconvert_exporter": "python",
   "pygments_lexer": "ipython3",
   "version": "3.6.9"
  }
 },
 "nbformat": 4,
 "nbformat_minor": 2
}

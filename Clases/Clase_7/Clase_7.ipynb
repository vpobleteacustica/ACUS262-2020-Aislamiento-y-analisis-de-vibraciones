{
 "cells": [
  {
   "cell_type": "code",
   "execution_count": 1,
   "metadata": {},
   "outputs": [],
   "source": [
    "%%HTML\n",
    "<!-- Mejorar visualización en proyector -->\n",
    "<style>\n",
    ".rendered_html {font-size: 1.2em; line-height: 150%;}\n",
    "div.prompt {min-width: 0ex; }\n",
    ".container {width:95% !important;}\n",
    "</style>"
   ]
  },
  {
   "cell_type": "markdown",
   "metadata": {},
   "source": [
    "<h1 style=\"text-align:center\">Clase 7: Sistema vibratorio con amortiguamiento viscoso de un grado de libertad</h1>\n",
    "<h3 style=\"text-align:center\">ACUS262: Aislamiento y Análisis de Vibraciones</h3>\n",
    "<p style=\"text-align:center\">Dr. Víctor Poblete <br>\n",
    "<a href=\"mailto:vpoblete@uach.cl\">vpoblete@uach.cl</a><br>\n",
    "<a href=\"https://github.com/vpobleteacustica/ACUS262-Aislamiento-y-analisis-de-vibraciones\">https://github.com/vpobleteacustica/ACUS262-Aislamiento-y-analisis-de-vibraciones</a><br> \n",
    "<a href=\"http://www.acusticauach.cl\">www.acusticauach.cl</a><br>"
   ]
  },
  {
   "cell_type": "markdown",
   "metadata": {},
   "source": [
    "* El modelo de respuesta de un sistema masa-resorte analizado y dibujado en clases, muestra que el sistema vibra indefinidamente."
   ]
  },
  {
   "cell_type": "markdown",
   "metadata": {},
   "source": [
    "* En la práctica, las amplitudes de las vibraciones **decaen** y los sistemas dejan de moverse cuando una componente del sistema mecánico está en contacto con un **fluido viscoso**."
   ]
  },
  {
   "cell_type": "markdown",
   "metadata": {},
   "source": [
    "* El modelo matemático, por lo tanto, debe adaptarse e incluir una fuerza de amortiguamiento que es proporcional a la **velocidad** y que representa el decaimiento y ese contacto con un fluido. "
   ]
  },
  {
   "cell_type": "markdown",
   "metadata": {},
   "source": [
    "* La adaptación implica incorporar un término **lineal** adicional: ${\\bf{c\\dot{x}(t)}}$ a la ecuación diferencial del movimiento y así no complicar el modelamiento matemático del sistema."
   ]
  },
  {
   "cell_type": "markdown",
   "metadata": {},
   "source": [
    "* El nuevo término llamado **amortiguamiento viscoso** ha demostrado de buena forma representar coherentemente datos de vibraciones experimentales."
   ]
  },
  {
   "cell_type": "markdown",
   "metadata": {},
   "source": [
    "* El amortiguamiento viscoso se agrega al modelo del sistema mecánico como un medio de **control de las vibraciones**."
   ]
  },
  {
   "cell_type": "markdown",
   "metadata": {},
   "source": [
    "* A diferencia de los resortes que representa un modelo que **almacena energı́a potencial**\n",
    "provocando que el sistema vibre, en el caso de los amortiguadores, éstos representan un modelo que **disipa energı́a** de tal manera que **amortiguan** las respuestas en sistemas vibratorios."
   ]
  },
  {
   "cell_type": "markdown",
   "metadata": {},
   "source": [
    "* El amortiguamiento viscoso genera a un decaimiento **exponencial** en la amplitud de la vibración libre y una reducción en amplitud de vibraciones **forzadas**."
   ]
  },
  {
   "cell_type": "markdown",
   "metadata": {},
   "source": [
    "*  Al modelo del sistema mecánico se agrega un **amortiguador** que proporciona amortiguamiento viscoso."
   ]
  },
  {
   "cell_type": "markdown",
   "metadata": {},
   "source": [
    "* En la Fig. 1, la nueva constante ${\\bf{c}}$ que representa al amortiguador, se le llama **coeficiente de amortiguamiento**. Sus unidades son: unidad de fuerza por unidad de\n",
    "velocidad $\\big(\\frac{N\\cdot s}{m}=\\frac{kg}{s}\\big)$."
   ]
  },
  {
   "cell_type": "markdown",
   "metadata": {},
   "source": [
    "<p style=\"text-align:center\">\n",
    "\t<img src=\"1.png\" alt=\"MDOF\" width=30%/></a><br>\n",
    "    <strong> Figura 1: Sistema amortiguado, libre de fuerza, de un grado de libertad</strong>\n",
    "</p>"
   ]
  },
  {
   "cell_type": "markdown",
   "metadata": {},
   "source": [
    "* Como la fuerza del resorte, también la fuerza del amortiguador viscoso **siempre se opone** a la dirección del movimiento."
   ]
  },
  {
   "cell_type": "markdown",
   "metadata": {},
   "source": [
    "* Si $x$ representa el desplazamiento de la masa $m$ a la cual el amortiguador está unido, entonces su velocidad es $\\dot{x}$. La fuerza del amortiguador viscoso se dibuja en dirección opuesta a la dirección positiva de $x$."
   ]
  },
  {
   "cell_type": "markdown",
   "metadata": {},
   "source": [
    "<p style=\"text-align:center\">\n",
    "\t<img src=\"2.png\" alt=\"MDOF\" width=25%/></a><br>\n",
    "    <strong> Figura 2: Diagrama de cuerpo libre</strong>\n",
    "</p>"
   ]
  },
  {
   "cell_type": "markdown",
   "metadata": {},
   "source": [
    "* De la Fig. 2 y usando la 2$^{a}$ ley de Newton:"
   ]
  },
  {
   "cell_type": "markdown",
   "metadata": {},
   "source": [
    "\\begin{align*}\n",
    "\\sum_{}^{}F&=m\\ddot{x}(t)\n",
    "\\end{align*}"
   ]
  },
  {
   "cell_type": "markdown",
   "metadata": {},
   "source": [
    "\\begin{align*}\n",
    "m\\ddot{x}(t)&=-c\\dot{x}(t)-k\\,x(t)\n",
    "\\end{align*}"
   ]
  },
  {
   "cell_type": "markdown",
   "metadata": {},
   "source": [
    "O bien, re-escrita como:"
   ]
  },
  {
   "cell_type": "markdown",
   "metadata": {},
   "source": [
    "\\begin{align*}\n",
    "m\\ddot{x}(t)+c\\dot{x}(t)+kx(t)&=0\n",
    "\\label{eq1}\\tag{1}\n",
    "\\end{align*}"
   ]
  },
  {
   "cell_type": "markdown",
   "metadata": {},
   "source": [
    "* Los valores de $x(0)$ y $\\dot{x}(0)$ deben ser especificados antes de resolver la ecuación diferencial que gobierna el movimiento."
   ]
  },
  {
   "cell_type": "markdown",
   "metadata": {},
   "source": [
    "* Los términos de la ecuación de movimiento amortiguado presentes en la Ec. ([1](#mjx-eqn-eq1)), se resumen en la Tabla siguiente: "
   ]
  },
  {
   "cell_type": "markdown",
   "metadata": {},
   "source": [
    "| Término | Modela |\n",
    "| --- | ---  |\n",
    "| $m\\ddot{x}(t)$ | fuerzas inerciales|\n",
    "| --- | ---  |\n",
    "| $c\\dot{x}(t)$ | fuerzas disipativas|\n",
    "| --- | ---  |\n",
    "| $kx(t)$ | fuerzas elásticas|"
   ]
  },
  {
   "cell_type": "markdown",
   "metadata": {},
   "source": [
    "* Al dividir la Ec. ([1](#mjx-eqn-eq1)) por $m$:"
   ]
  },
  {
   "cell_type": "markdown",
   "metadata": {},
   "source": [
    "\\begin{align*}\n",
    "\\ddot{x}(t)+\\frac{c}{m}\\,\\dot{x}(t)+\\frac{k}{m}\\,x(t)&=0\n",
    "\\label{eq2}\\tag{2}\n",
    "\\end{align*}"
   ]
  },
  {
   "cell_type": "markdown",
   "metadata": {},
   "source": [
    "* Los dos parámetros que aparecen tienen un efecto sobre la solución y se definen como: "
   ]
  },
  {
   "cell_type": "markdown",
   "metadata": {},
   "source": [
    "\\begin{align*}\n",
    "\\omega_{0}&=\\sqrt{\\frac{k}{m}},\\quad {\\text{frecuencia angular natural de movimiento}}\\,\\bigg( \\frac{rad}{s}\\bigg)\n",
    "\\label{eq3}\\tag{3}\n",
    "\\end{align*}"
   ]
  },
  {
   "cell_type": "markdown",
   "metadata": {},
   "source": [
    "Y el segundo parámetro:"
   ]
  },
  {
   "cell_type": "markdown",
   "metadata": {},
   "source": [
    "\\begin{align*}\n",
    "\\zeta &=\\frac{c}{2\\,\\sqrt{k\\,m}},\\quad {\\text{razón de amortiguamiento (cantidad que no tiene unidades)}}\n",
    "\\label{eq4}\\tag{4}\n",
    "\\end{align*}"
   ]
  },
  {
   "cell_type": "markdown",
   "metadata": {},
   "source": [
    "* La ecuación diferencial de movimiento es escrita en términos de estos dos parámetros:"
   ]
  },
  {
   "cell_type": "markdown",
   "metadata": {},
   "source": [
    "\\begin{align*}\n",
    "\\ddot{x}(t)+2\\zeta \\omega_{0}\\,\\dot{x}(t)+\\omega_{0}^{2}\\,x(t)&=0\n",
    "\\label{eq5}\\tag{5}\n",
    "\\end{align*}"
   ]
  },
  {
   "cell_type": "markdown",
   "metadata": {},
   "source": [
    "* La Ec. ([5](#mjx-eqn-eq5)) se complementa con dos condiciones iniciales:"
   ]
  },
  {
   "cell_type": "markdown",
   "metadata": {},
   "source": [
    "\\begin{align*}\n",
    "x(0)&=x_{0}\n",
    "\\label{eq6}\\tag{6}\n",
    "\\end{align*}"
   ]
  },
  {
   "cell_type": "markdown",
   "metadata": {},
   "source": [
    "\\begin{align*}\n",
    "\\dot{x}(0)&=\\dot{x}_{0}\n",
    "\\label{eq7}\\tag{7}\n",
    "\\end{align*}"
   ]
  },
  {
   "cell_type": "markdown",
   "metadata": {},
   "source": [
    "* La Ec. ([5](#mjx-eqn-eq5)) es una ecuación diferencial homogénea, ordinaria, lineal, con coeficientes constantes."
   ]
  },
  {
   "cell_type": "markdown",
   "metadata": {},
   "source": [
    "* Una solución de la ecuación se asume que es del tipo:"
   ]
  },
  {
   "cell_type": "markdown",
   "metadata": {},
   "source": [
    "\\begin{align*}\n",
    "x(t)&=Ae^{\\alpha t}\n",
    "\\label{eq8}\\tag{8}\n",
    "\\end{align*}"
   ]
  },
  {
   "cell_type": "markdown",
   "metadata": {},
   "source": [
    "* Derivando y reemplazando la Ec. ([5](#mjx-eqn-eq5)), se tiene:"
   ]
  },
  {
   "cell_type": "markdown",
   "metadata": {},
   "source": [
    "\\begin{align*}\n",
    "\\big(\\alpha^{2}+2\\zeta\\omega_{0}\\alpha+\\omega_{0}^{2}\\big)\\,Ae^{\\alpha\\,t}&=0\n",
    "\\label{eq9}\\tag{9}\n",
    "\\end{align*}"
   ]
  },
  {
   "cell_type": "markdown",
   "metadata": {},
   "source": [
    "+ La solución se obtiene al hacer:"
   ]
  },
  {
   "cell_type": "markdown",
   "metadata": {},
   "source": [
    "\\begin{align*}\n",
    "\\big(\\alpha^{2}+2\\zeta\\omega_{0}\\alpha+\\omega_{0}^{2}\\big)&=0\n",
    "\\label{eq10}\\tag{10}\n",
    "\\end{align*}"
   ]
  },
  {
   "cell_type": "markdown",
   "metadata": {},
   "source": [
    "* Usando la fórmula cuadrática se obtiene la **ecuación característica**:"
   ]
  },
  {
   "cell_type": "markdown",
   "metadata": {},
   "source": [
    "\\begin{align*}\n",
    "\\alpha&= \\frac{-2\\zeta\\omega_{0}\\pm\\sqrt{(2\\zeta\\omega_{0})^{2}-4\\omega_{0}^{2} }}{2}\n",
    "%\\label{eq10}\\tag{10}\n",
    "\\end{align*}"
   ]
  },
  {
   "cell_type": "markdown",
   "metadata": {},
   "source": [
    "o bien,"
   ]
  },
  {
   "cell_type": "markdown",
   "metadata": {},
   "source": [
    "\\begin{align*}\n",
    "\\alpha&= \\omega_{0}\\big(-\\zeta\\pm\\sqrt{\\zeta^{2}-1}\\big)\n",
    "\\label{eq11}\\tag{11}\n",
    "\\end{align*}"
   ]
  },
  {
   "cell_type": "markdown",
   "metadata": {},
   "source": [
    "* La forma de la solución de la ecuación diferencial ([5](#mjx-eqn-eq5)) depende las raíces de la ecuación característica. Definiendo $j=\\sqrt{-1}$ hay 4 casos de interés:"
   ]
  },
  {
   "cell_type": "markdown",
   "metadata": {},
   "source": [
    "#### 1. Cuando $\\zeta=0$"
   ]
  },
  {
   "cell_type": "markdown",
   "metadata": {},
   "source": [
    "+ **Las raíces son puramente imaginarias** como"
   ]
  },
  {
   "cell_type": "markdown",
   "metadata": {},
   "source": [
    "\\begin{align*}\n",
    "\\alpha&= \\pm\\, j\\omega_{0}\n",
    "\\label{eq12}\\tag{12}\n",
    "\\end{align*}"
   ]
  },
  {
   "cell_type": "markdown",
   "metadata": {},
   "source": [
    "* Y las vibraciones serán **no amortiguadas.**"
   ]
  },
  {
   "cell_type": "markdown",
   "metadata": {},
   "source": [
    "* La solución general es:"
   ]
  },
  {
   "cell_type": "markdown",
   "metadata": {},
   "source": [
    "\\begin{align*}\n",
    "x(t)&=B_{1}e^{j\\omega_{0}t}+B_{2}e^{-j\\omega_{0}t}\n",
    "\\end{align*}"
   ]
  },
  {
   "cell_type": "markdown",
   "metadata": {},
   "source": [
    "#### 2. Cuando $0<\\zeta<1$"
   ]
  },
  {
   "cell_type": "markdown",
   "metadata": {},
   "source": [
    "+ **Las raíces son complejo conjugadas** como"
   ]
  },
  {
   "cell_type": "markdown",
   "metadata": {},
   "source": [
    "\\begin{align*}\n",
    "\\alpha&= \\omega_{0}\\big(-\\zeta\\,\\pm\\,j\\,\\sqrt{1-\\zeta^{2}} \\big)\n",
    "\\label{eq13}\\tag{13}\n",
    "\\end{align*}"
   ]
  },
  {
   "cell_type": "markdown",
   "metadata": {},
   "source": [
    "* Y las vibraciones serán **sub-amortiguadas.**"
   ]
  },
  {
   "cell_type": "markdown",
   "metadata": {},
   "source": [
    "* La solución general que gobierna la ecuación es:"
   ]
  },
  {
   "cell_type": "markdown",
   "metadata": {},
   "source": [
    "\\begin{align*}\n",
    "x(t)&=B_{1}e^{(-\\zeta\\omega_{0}-j\\omega_{0}\\sqrt{1-\\zeta^{2}})t}+B_{2}e^{(-\\zeta\\omega_{0}+j\\omega_{0}\\sqrt{1-\\zeta^{2}})t}\n",
    "\\end{align*}"
   ]
  },
  {
   "cell_type": "markdown",
   "metadata": {},
   "source": [
    "* Una forma de solución es:"
   ]
  },
  {
   "cell_type": "markdown",
   "metadata": {},
   "source": [
    "\\begin{align*}\n",
    "x(t)&=Ae^{-\\zeta\\omega_{0}t}\\,{\\text{sen}}\\big( \\omega_{d}t-\\phi_{d}\\big)\n",
    "\\label{eq14}\\tag{14}\n",
    "\\end{align*}"
   ]
  },
  {
   "cell_type": "markdown",
   "metadata": {},
   "source": [
    "donde:"
   ]
  },
  {
   "cell_type": "markdown",
   "metadata": {},
   "source": [
    "\\begin{align*}\n",
    "A&=\\sqrt{x_{0}^{2}+\\big(\\frac{\\dot{x}(0)+\\zeta\\omega_{0}x_{0}}{\\omega_{d}}\\big)^{2}}\n",
    "\\label{eq15}\\tag{15}\n",
    "\\end{align*}"
   ]
  },
  {
   "cell_type": "markdown",
   "metadata": {},
   "source": [
    "\\begin{align*}\n",
    "\\phi&={\\text{tan}}^{-1}\\bigg( \\frac{x_{0}\\omega_{d}}{\\dot{x}_{0}+\\zeta\\omega_{0}x_{0}} \\bigg)\n",
    "\\label{eq16}\\tag{16}\n",
    "\\end{align*}"
   ]
  },
  {
   "cell_type": "markdown",
   "metadata": {},
   "source": [
    "siendo la **frecuencia natural amortiguada** $\\omega_{d}$ igual a:"
   ]
  },
  {
   "cell_type": "markdown",
   "metadata": {},
   "source": [
    "\\begin{align*}\n",
    "\\omega_{d}&=\\omega_{0}\\sqrt{1-\\zeta^{2}}\n",
    "\\label{eq17}\\tag{17}\n",
    "\\end{align*}"
   ]
  },
  {
   "cell_type": "markdown",
   "metadata": {},
   "source": [
    "Y el período de la **vibración sub-amortiguada, libre** o también llamado período amortiguado es:"
   ]
  },
  {
   "cell_type": "markdown",
   "metadata": {},
   "source": [
    "\\begin{align*}\n",
    "T_{d}&=\\frac{2\\pi}{\\omega_{d}}\n",
    "\\label{eq18}\\tag{18}\n",
    "\\end{align*}"
   ]
  },
  {
   "cell_type": "markdown",
   "metadata": {},
   "source": [
    "* Debido al proceso de fricción viscosa, que se resiste al movimiento del sistema, se hace más **lento** el movimiento, lo que se refleja en que $\\omega_{d}<\\omega$ y que $T_{d}>T$."
   ]
  },
  {
   "cell_type": "code",
   "execution_count": 4,
   "metadata": {},
   "outputs": [
    {
     "name": "stdout",
     "output_type": "stream",
     "text": [
      "0.16574838603294895\n"
     ]
    },
    {
     "data": {
      "text/plain": [
       "<matplotlib.legend.Legend at 0x7fa210df30b8>"
      ]
     },
     "execution_count": 4,
     "metadata": {},
     "output_type": "execute_result"
    },
    {
     "data": {
      "image/png": "[encoded data removed]",
      "text/plain": [
       "<Figure size 432x288 with 1 Axes>"
      ]
     },
     "metadata": {
      "needs_background": "light"
     },
     "output_type": "display_data"
    }
   ],
   "source": [
    "import numpy as np\n",
    "from matplotlib import pyplot as plt\n",
    "\n",
    "# Datos\n",
    "m = 100 # kg\n",
    "c = 100 # kg/s\n",
    "k = 910 # N/m\n",
    "t    = np.linspace(0., 10.0, num=500)\n",
    "# Condiciones iniciales\n",
    "x0   = 0.001 # m\n",
    "v0   = 0.02  #m/s\n",
    "\n",
    "# Calculamos los parametros \n",
    "zeta = c/(2*np.sqrt(k*m))\n",
    "w0   = np.sqrt(k/m)\n",
    "wd   = w0*np.sqrt(1-zeta**2)\n",
    "A    = np.sqrt(x0**2+((v0+zeta*w0*x0)/wd)**2)\n",
    "fid  = np.arctan((x0*wd)/(v0+zeta*w0*x0))\n",
    "T    = 2*np.pi/wd\n",
    "\n",
    "print(zeta)\n",
    "\n",
    "# Dibujamos la solución\n",
    "x    = A*np.exp(-zeta*w0*t)*np.sin(wd*t+fid)\n",
    "ax   = plt.gca()\n",
    "\n",
    "ax.plot(t, x,t,A*np.exp(-zeta*w0*t),'--',t,-A*np.exp(-zeta*w0*t),'--',label='$\\zeta=0.166$')\n",
    "\n",
    "plt.xlabel('tiempo (s)')\n",
    "plt.ylabel('$x(t)/x0$ ')\n",
    "plt.title('Vibraciones libres de un sistema de 1DOF \\n sub-amortiguado, que decae exponencialmente')\n",
    "ax.legend()\n"
   ]
  },
  {
   "cell_type": "markdown",
   "metadata": {},
   "source": [
    "#### 3. Cuando $\\zeta=1$"
   ]
  },
  {
   "cell_type": "markdown",
   "metadata": {},
   "source": [
    "* La ecuación característica tiene solamente una raíz:"
   ]
  },
  {
   "cell_type": "markdown",
   "metadata": {},
   "source": [
    "\\begin{align*}\n",
    "\\alpha&= -\\omega_{0}\n",
    "\\label{eq19}\\tag{19}\n",
    "\\end{align*}"
   ]
  },
  {
   "cell_type": "markdown",
   "metadata": {},
   "source": [
    "* Y las vibraciones serán **críticamente-amortiguadas.**"
   ]
  },
  {
   "cell_type": "markdown",
   "metadata": {},
   "source": [
    "* En este caso, una solución de la ecuación diferencial es: $e^{-\\omega_{0}t}$. La segunda solución linealmente independiente se tiene al multiplicar la primera por $t$. Así, la solución general es:"
   ]
  },
  {
   "cell_type": "markdown",
   "metadata": {},
   "source": [
    "\\begin{align*}\n",
    "x(t)&=e^{-\\omega_{0}\\,t}\\,(C_{1}+C_{2}\\,t)\n",
    "\\label{eq20}\\tag{20}\n",
    "\\end{align*}"
   ]
  },
  {
   "cell_type": "markdown",
   "metadata": {},
   "source": [
    "* Si se aplican las condiciones iniciales, se tendrá:"
   ]
  },
  {
   "cell_type": "markdown",
   "metadata": {},
   "source": [
    "\\begin{align*}\n",
    "x(t)&=e^{-\\omega_{0}\\,t}\\,\\big[\\,x_{0}+\\big(\\dot{x}_{0}+\\omega_{0}x_{0}\\big)\\cdot t\\,\\big]\n",
    "\\label{eq21}\\tag{21}\n",
    "\\end{align*}"
   ]
  },
  {
   "cell_type": "code",
   "execution_count": null,
   "metadata": {},
   "outputs": [],
   "source": [
    "import numpy as np\n",
    "from matplotlib import pyplot as plt\n",
    "\n",
    "# Datos\n",
    "wn1  = 2 # (rad/s)\n",
    "m    = 100 # kg\n",
    "k    = m*wn1**2\n",
    "\n",
    "#print(k)\n",
    "#m = 100 # kg\n",
    "#c = 100 # kg/s\n",
    "#k = 910 # N/m\n",
    "\n",
    "# Condiciones iniciales\n",
    "x10   = 0.001 # m\n",
    "v10   = 10/1000  #m/s\n",
    "#v02  = -15/1000  #m/s\n",
    "\n",
    "# Calculamos los parametros \n",
    "zeta = 1 #c/(2*np.sqrt(k*m))\n",
    "#w0   = np.sqrt(k/m)\n",
    "#wd   = w0*np.sqrt(1-zeta**2)\n",
    "#A    = np.sqrt(x0**2+((v0+zeta*w0*x0)/wd)**2)\n",
    "#fid  = np.arctan((x0*wd)/(v0+zeta*w0*x0))\n",
    "#T    = 2*np.pi/wd\n",
    "\n",
    "#print(zeta)\n",
    "\n",
    "# Dibujamos la solución\n",
    "t    = np.linspace(0., 10.0, num=500)\n",
    "x    = np.exp(-zeta*wn1*t)*(x10+(v10+wn1*x10)*t )\n",
    "ax   = plt.gca()\n",
    "\n",
    "ax.plot(t, x,label='$\\zeta=1$')\n",
    "\n",
    "plt.xlabel('tiempo (s)')\n",
    "plt.ylabel('$x(t)/x0$ ')\n",
    "plt.title('Vibraciones libres de un sistema de 1DOF \\n sub-amortiguado, que decae exponencialmente')\n",
    "ax.legend()\n",
    "\n",
    "\n"
   ]
  },
  {
   "cell_type": "markdown",
   "metadata": {},
   "source": [
    "#### 4. Cuando $\\zeta>1$"
   ]
  },
  {
   "cell_type": "markdown",
   "metadata": {},
   "source": [
    "* La ecuación características tiene dos raices reales:"
   ]
  },
  {
   "cell_type": "markdown",
   "metadata": {},
   "source": [
    "\\begin{align*}\n",
    "\\alpha&= \\omega_{0}\\big(-\\zeta\\pm\\sqrt{\\zeta^{2}-1}\\big)\n",
    "\\label{eq22}\\tag{22}\n",
    "\\end{align*}"
   ]
  },
  {
   "cell_type": "markdown",
   "metadata": {},
   "source": [
    "* Y las vibraciones serán **sobre-amortiguadas.**"
   ]
  },
  {
   "cell_type": "markdown",
   "metadata": {},
   "source": [
    "* La solución general de la Ec. ([5](#mjx-eqn-eq5)) es:"
   ]
  },
  {
   "cell_type": "markdown",
   "metadata": {},
   "source": [
    "\\begin{align*}\n",
    "x(t)&=e^{-\\omega_{0}t}\\bigg[C_{1}e^{-\\omega_{0}\\big(\\sqrt{\\zeta^{2}-1}\\big)\\,t}+C_{2}e^{\\omega_{0}\\big(\\sqrt{\\zeta^{2}-1}\\big)\\,t}\\bigg]\n",
    "\\label{eq23}\\tag{23}\n",
    "\\end{align*}"
   ]
  },
  {
   "cell_type": "markdown",
   "metadata": {},
   "source": [
    "* Aplicación de condiciones iniciales en la Ec. ([23](#mjx-eqn-eq23)):\n",
    "\\begin{align*}\n",
    "x(0)&=x_{0}\n",
    "%\\label{eq24}\\tag{24}\n",
    "\\end{align*} \n",
    "\\begin{align*}\n",
    "\\dot{x}(0)&=\\dot{x}_{0}\n",
    "%\\label{eq25}\\tag{25}\n",
    "\\end{align*}"
   ]
  },
  {
   "cell_type": "markdown",
   "metadata": {},
   "source": [
    "* Se obtiene:"
   ]
  },
  {
   "cell_type": "markdown",
   "metadata": {},
   "source": [
    "\\begin{align*}\n",
    "x(t)&=\\frac{e^{-\\omega_{0}t}}{2\\big(\\sqrt{\\zeta^{2}-1}\\big)}\\,\\cdot\\bigg\\{\\,\\bigg[\\frac{\\dot{x}_{0}}{\\omega_{0}}+x_{0}\\,\\big(\\zeta+\\sqrt{\\zeta^{2}-1}\\,\\big)\\bigg]\\,e^{\\omega_{0}\\big(\\sqrt{\\zeta^{2}-1}\\big)\\,t}\\,+\\,\\bigg[-\\frac{\\dot{x}_{0}}{\\omega_{0}}+x_{0}\\,\\big(-\\zeta+\\sqrt{\\zeta^{2}-1}\\,\\big)\\bigg]\\,e^{-\\omega_{0}\\big(\\sqrt{\\zeta^{2}-1}\\big)\\,t}\\,\\bigg\\}\n",
    "\\label{eq24}\\tag{24}\n",
    "\\end{align*}"
   ]
  },
  {
   "cell_type": "markdown",
   "metadata": {},
   "source": [
    "* **Ejercicio:** Dibujar la respuesta de vibración libre dada por la Ec. ([24](#mjx-eqn-eq24)). El sistema tiene los siguientes valores $\\omega_{0}=3$ (rad/s), $\\zeta=1.2$, $x_{0}=1$ (mm) y $\\dot{x}_{0}= 9$ (mm/s). "
   ]
  },
  {
   "cell_type": "code",
   "execution_count": 5,
   "metadata": {},
   "outputs": [
    {
     "data": {
      "text/plain": [
       "<matplotlib.legend.Legend at 0x7fa1ccaf7f28>"
      ]
     },
     "execution_count": 5,
     "metadata": {},
     "output_type": "execute_result"
    },
    {
     "data": {
      "image/png": "[encoded data removed]",
      "text/plain": [
       "<Figure size 432x288 with 1 Axes>"
      ]
     },
     "metadata": {
      "needs_background": "light"
     },
     "output_type": "display_data"
    }
   ],
   "source": [
    "import numpy as np\n",
    "from matplotlib import pyplot as plt\n",
    "\n",
    "w0  = 3 # (rad/s)\n",
    "z   = 1.2\n",
    "x0  = 1 # 1 mm\n",
    "v01 = 9\n",
    "v02 = -9 # mm/s\n",
    "\n",
    "t  = np.linspace(0., 3.0, num=500)\n",
    "x1  = (np.exp(-z*w0*t)/2*np.sqrt(z**2-1))*((v01/w0+x0*(z+np.sqrt(z**2-1)))*np.exp(w0*t*np.sqrt(z**2-1))+(-v01/w0+x0*(-z+np.sqrt(z**2-1)))*np.exp(-w0*t*np.sqrt(z**2-1)))\n",
    "x2  = (np.exp(-z*w0*t)/2*np.sqrt(z**2-1))*((v02/w0+x0*(z+np.sqrt(z**2-1)))*np.exp(w0*t*np.sqrt(z**2-1))+(-v02/w0+x0*(-z+np.sqrt(z**2-1)))*np.exp(-w0*t*np.sqrt(z**2-1)))\n",
    "\n",
    "#A = np.exp(-z*w0*t)\n",
    "#B = 2*np.sqrt(z**2-1)\n",
    "#C = v0/w0 + x0*(z+np.sqrt((z**2)-1))\n",
    "#D = np.exp((w0*np.sqrt((z**2)-1))*t)\n",
    "#E = -v0/w0 + x0*(-z+np.sqrt((z**2)-1))\n",
    "#F = np.exp((-w0*np.sqrt((z**2)-1))*t)\n",
    "#x = (A/B)*(C*D+E*F)\n",
    "\n",
    "ax   = plt.gca()\n",
    "ax.plot(t, x1,t,x2,label='$v_{0}=1.2$')\n",
    "\n",
    "plt.xlabel('tiempo (s)')\n",
    "plt.ylabel('$x(t)$ (mm)')\n",
    "plt.title('Vibraciones')\n",
    "ax.legend()\n",
    "\n"
   ]
  },
  {
   "cell_type": "markdown",
   "metadata": {},
   "source": [
    "* **Ejercicio:** Comparar entre las respuestas libres de un sistema críticamente amortiguado y otro sistema sobre amortiguado. Los dos sistemas tienen las mismas condiciones iniciales. Un sistema tiene una razón de amortiguamiento igual a 1.0, y el otro de 1.25. Cuál de los sistema es más lento?"
   ]
  },
  {
   "cell_type": "code",
   "execution_count": null,
   "metadata": {},
   "outputs": [],
   "source": []
  }
 ],
 "metadata": {
  "kernelspec": {
   "display_name": "Python 3",
   "language": "python",
   "name": "python3"
  },
  "language_info": {
   "codemirror_mode": {
    "name": "ipython",
    "version": 3
   },
   "file_extension": ".py",
   "mimetype": "text/x-python",
   "name": "python",
   "nbconvert_exporter": "python",
   "pygments_lexer": "ipython3",
   "version": "3.6.9"
  }
 },
 "nbformat": 4,
 "nbformat_minor": 2
}

{
 "cells": [
  {
   "cell_type": "code",
   "execution_count": 2,
   "metadata": {},
   "outputs": [
    {
     "data": {
      "text/html": [
       "<!-- Mejorar visualización en proyector -->\n",
       "<style>\n",
       ".rendered_html {font-size: 1.2em; line-height: 150%;}\n",
       "div.prompt {min-width: 0ex; }\n",
       ".container {width:95% !important;}\n",
       "</style>\n"
      ],
      "text/plain": [
       "<IPython.core.display.HTML object>"
      ]
     },
     "metadata": {},
     "output_type": "display_data"
    }
   ],
   "source": [
    "%%HTML\n",
    "<!-- Mejorar visualización en proyector -->\n",
    "<style>\n",
    ".rendered_html {font-size: 1.2em; line-height: 150%;}\n",
    "div.prompt {min-width: 0ex; }\n",
    ".container {width:95% !important;}\n",
    "</style>"
   ]
  },
  {
   "cell_type": "markdown",
   "metadata": {},
   "source": [
    "<h1 style=\"text-align:center\">Clase 2: Dinámica de una partícula. </h1>\n",
    "<h3 style=\"text-align:center\">ACUS262: Aislamiento y Análisis de Vibraciones</h3>\n",
    "<p style=\"text-align:center\">Dr. Víctor Poblete <br>\n",
    "<a href=\"mailto:vpoblete@uach.cl\">vpoblete@uach.cl</a><br>\n",
    "<a href=\"https://github.com/vpobleteacustica/ACUS125-Aislamiento-y-Analisis-de-Vibraciones\">https://github.com/vpobleteacustica/ACUS262-Aislamiento-y-analisis-de-vibraciones</a><br> \n",
    "<a href=\"http://www.acusticauach.cl\">www.acusticauach.cl</a><br> "
   ]
  },
  {
   "cell_type": "markdown",
   "metadata": {},
   "source": [
    "### Momento de una fuerza"
   ]
  },
  {
   "cell_type": "markdown",
   "metadata": {},
   "source": [
    "Suponer que una partícula de masa $m$ se mueve bajo la acción de una fuerza $\\bf{F}$. La posición de esta partícula, relativa al origen $0$ del espacio inercial $-xyz$, está representada por el vector de posición $\\bf{r}$. Su velocidad es $\\bf{v}=\\dot{r}$. Por definición, el momento de la fuerza $\\bf{F}$ en torno a $0$ es el vector:"
   ]
  },
  {
   "cell_type": "markdown",
   "metadata": {},
   "source": [
    "\\begin{align}\n",
    "{\\bf{M}}_{0} &={\\bf{r}\\times \\bf{F}}\n",
    "\\label{eq1}\\tag{1}\n",
    "\\end{align}"
   ]
  },
  {
   "cell_type": "markdown",
   "metadata": {},
   "source": [
    "y es un vector normal al plano definido por $\\bf{r}$ y $\\bf{F}$. "
   ]
  },
  {
   "cell_type": "markdown",
   "metadata": {},
   "source": [
    "### Momentum angular"
   ]
  },
  {
   "cell_type": "markdown",
   "metadata": {},
   "source": [
    "El momentum angular de la $m$ con respecto al origen $0$ se define como: "
   ]
  },
  {
   "cell_type": "markdown",
   "metadata": {},
   "source": [
    "\\begin{align}\n",
    "{{\\bf{H}}}_{0} &={\\bf{r}\\times \\bf{p}}= {\\bf{r}}\\times m{\\bf{\\dot{r}}}\n",
    "\\label{eq2}\\tag{2}\n",
    "\\end{align}"
   ]
  },
  {
   "cell_type": "markdown",
   "metadata": {},
   "source": [
    "y es un vector normal al plano definido por $\\bf{r}$ y $\\bf{p}$."
   ]
  },
  {
   "cell_type": "markdown",
   "metadata": {},
   "source": [
    "Si ahora se toma la derivada con respecto al tiempo de ${{\\bf{H}}_{0}}$ y recordando que $m$ es constante, se tiene:"
   ]
  },
  {
   "cell_type": "markdown",
   "metadata": {},
   "source": [
    "\\begin{align}\n",
    "{\\bf{\\dot{H}}}_{0} &= {\\bf{{\\dot{r}}}}\\,\\times\\,m\\,{\\bf{\\dot{r}}} \\,+\\,{\\bf{r}}\\,\\times\\,m\\,{\\bf{\\ddot{r}}}\\,=\\,{\\bf{r}}\\,\\times\\,m\\,{\\bf{\\ddot{r}}}\n",
    "\\label{eq3}\\tag{3}\n",
    "\\end{align}"
   ]
  },
  {
   "cell_type": "markdown",
   "metadata": {},
   "source": [
    "puesto que, por definición, ${\\bf{{\\dot{r}}}}\\,\\times\\,m\\,{\\bf{\\dot{r}}} \\,=\\,m\\,({\\bf{{\\dot{r}}}}\\,\\times\\,{\\bf{\\dot{r}}})\\,=\\,{\\bf{0}}.$ Recordar que: ${\\bf{\\text{a}}} \\times {\\bf{\\text{b}}}=\\lVert {\\bf{\\text{a}}} \\rVert\\,\\lVert {\\bf{\\text{b}}} \\rVert\\,{\\text{sen}}(\\alpha)\\,\\hat{\\text{n}}$"
   ]
  },
  {
   "cell_type": "markdown",
   "metadata": {},
   "source": [
    "Pero, por la segunda ley de Newton: $m\\,{\\bf{\\ddot{r}}}={\\bf{F}}$, por lo que:"
   ]
  },
  {
   "cell_type": "markdown",
   "metadata": {},
   "source": [
    "\\begin{align}\n",
    "{\\bf{\\dot{H}}}_{0} &= \\,{\\bf{r}}\\,\\times\\,{\\bf{F}}\n",
    "\\label{eq4}\\tag{4}\n",
    "\\end{align}"
   ]
  },
  {
   "cell_type": "markdown",
   "metadata": {},
   "source": [
    "Se concluye que:"
   ]
  },
  {
   "cell_type": "markdown",
   "metadata": {},
   "source": [
    "\\begin{align}\n",
    "{\\bf{M}}_{0} &={\\bf{\\dot{H}}}_{0}\n",
    "\\label{eq5}\\tag{5}\n",
    "\\end{align}"
   ]
  },
  {
   "cell_type": "markdown",
   "metadata": {},
   "source": [
    "Cuando ${{\\bf{M}}_{0}}={\\bf{0}}$, entonces, ${\\bf{H}}_{0}={\\text{constante}}$, lo que representa el principio de conservación del momentum angular; es decir, en ausencia de momento de fuerza, el momentum angular es constante.   "
   ]
  },
  {
   "cell_type": "markdown",
   "metadata": {},
   "source": [
    "### Ejemplo:"
   ]
  },
  {
   "cell_type": "markdown",
   "metadata": {},
   "source": [
    "Obtener la ecuación de movimiento del péndulo simple, usando la relación: ${\\bf{M}}_{0} ={\\bf{\\dot{H}}}_{0}$ "
   ]
  },
  {
   "cell_type": "markdown",
   "metadata": {},
   "source": [
    "<p style=\"text-align:center\">\n",
    "    <a title=\"Relación Momentum\"><img src=\"RelacionMomentum.png\" width=\"350\" height=\"350\" alt=\"Tiny\"></a>\n",
    "    <a title=\"Relación Momentum\"><img src=\"FigMeiro.png\" width=\"350\" height=\"350\" alt=\"Tiny\"></a>\n",
    "    <strong>Figure 1. Relación momentum angular y momento de una fuerza, péndulo simple.</strong> "
   ]
  },
  {
   "cell_type": "markdown",
   "metadata": {},
   "source": [
    "### Solución:"
   ]
  },
  {
   "cell_type": "markdown",
   "metadata": {},
   "source": [
    "1) Vector de posición: ${\\bf{r}}\\,=\\,{\\text{L}}\\,\\hat{r}$.\n"
   ]
  },
  {
   "cell_type": "markdown",
   "metadata": {},
   "source": [
    "2) Vector de fuerza: ${\\bf{F}}\\,=\\,{\\text{m}}{\\text{g}}\\,(\\,{\\text{cos}}(\\theta)\\,\\hat{r} - {\\text{sen}}(\\theta)\\,\\hat{\\theta}\\,)$. "
   ]
  },
  {
   "cell_type": "markdown",
   "metadata": {},
   "source": [
    "3) Vector de momento lineal: ${\\bf{p}}={\\text{m}{\\bf{v}}}$, pero como se obtuvo en la clase 1, en el caso del péndulo: ${\\bf{v}}={\\text{L}}\\,\\dot{\\theta}\\,\\hat{\\theta}$. Por lo tanto:\n",
    "\\begin{align*}\n",
    "{\\bf{p}}={\\text{m}}\\,{\\text{L}}\\,\\dot{\\theta}\\,\\hat{\\theta}\n",
    "\\end{align*}"
   ]
  },
  {
   "cell_type": "markdown",
   "metadata": {},
   "source": [
    "4) Vector de momento de la fuerza en torno al origen ${\\text{0}}$ del sistema inercial: "
   ]
  },
  {
   "cell_type": "markdown",
   "metadata": {},
   "source": [
    "\\begin{align*}\n",
    "{\\bf{M}}_{0}\\,&= \\,{\\bf{r}}\\,\\times\\,{\\bf{F}}\\\\\n",
    "&=\\,{\\text{L}}\\,\\hat{r}\\,\\times\\,{\\text{m}}{\\text{g}}\\,(\\,{\\text{cos}}(\\theta)\\,\\hat{r} - {\\text{sen}}(\\theta)\\,\\hat{\\theta}\\,)\\\\\n",
    "&=\\,\\begin{pmatrix}\n",
    "\\hat{r}& \\hat{\\theta}& \\hat{k}\\\\\n",
    "L & 0 & 0\\\\\n",
    "{\\text{m}}{\\text{g}}\\,{\\text{cos}}(\\theta) & -\\,{\\text{m}}{\\text{g}}\\,{\\text{sen}}(\\theta)&0\n",
    "\\end{pmatrix}\\\\\n",
    "{\\bf{M}}_{0}&= -{\\text{m}}{\\text{g}}{\\text{L}}\\,{\\text{sen}}(\\theta)\\,{\\hat{k}}\n",
    "\\end{align*}"
   ]
  },
  {
   "cell_type": "markdown",
   "metadata": {},
   "source": [
    "5) Vector de momentum angular: ${{\\bf{H}}_{0}}$"
   ]
  },
  {
   "cell_type": "markdown",
   "metadata": {},
   "source": [
    "\\begin{align*}\n",
    "{\\bf{H}}_{0}\\,&= \\,{\\bf{r}}\\,\\times\\,{\\bf{p}}\\\\\n",
    "&=\\,{\\text{L}}\\,\\hat{r}\\,\\times\\,{\\text{m}}\\,{\\text{L}}\\,\\dot{\\theta}\\,\\hat{\\theta}\\\\\n",
    "&=\\,\\begin{pmatrix}\n",
    "\\hat{r}& \\hat{\\theta}& \\hat{k}\\\\\n",
    "L & 0 & 0\\\\\n",
    "0 & {\\text{m}}\\,{\\text{L}}\\,\\dot{\\theta}&0\n",
    "\\end{pmatrix}\\\\\n",
    "{\\bf{H}}_{0}&= {\\text{m}}\\,{\\text{L}}^{2}\\,\\dot{\\theta}\\,{\\hat{k}}\n",
    "\\end{align*}"
   ]
  },
  {
   "cell_type": "markdown",
   "metadata": {},
   "source": [
    "6) Relación entre ${\\bf{M}}_{0}$ y ${\\bf{\\dot{H}}}_{0}$, omitiendo $\\hat{k}$"
   ]
  },
  {
   "cell_type": "markdown",
   "metadata": {},
   "source": [
    "\\begin{align*}\n",
    "-{\\text{m}}{\\text{g}}{\\text{L}}\\,{\\text{sen}}(\\theta)\\,&=\\,{\\text{m}}\\,{\\text{L}}^{2}\\,\\ddot{\\theta}\n",
    "\\end{align*}"
   ]
  },
  {
   "cell_type": "markdown",
   "metadata": {},
   "source": [
    "Despejando, se obtiene la ecuación de movimiento resultante:"
   ]
  },
  {
   "cell_type": "markdown",
   "metadata": {},
   "source": [
    "\\begin{align*}\n",
    "\\ddot{\\theta}+\\,\\omega_{0}^{2}\\,{\\text{sen}}(\\theta)\\,&=\\,0\n",
    "\\end{align*}"
   ]
  },
  {
   "cell_type": "markdown",
   "metadata": {},
   "source": [
    "con $$\\omega_{0}\\,=\\,\\sqrt{\\frac{{\\text{g}}}{{\\text{L}}}}$$"
   ]
  },
  {
   "cell_type": "markdown",
   "metadata": {},
   "source": [
    "La frecuencia angular natural de oscilación del péndulo. La ecuación diferencial de movimiento es de segundo orden y coincide con la obtenida en la clase 1. Tiene una estructura no lineal. Sin embargo, matemáticamente se puede hacer lineal. Si se expande $\\text{sen}(\\theta)$ en serie de Taylor: "
   ]
  },
  {
   "cell_type": "markdown",
   "metadata": {},
   "source": [
    "\\begin{align*}\n",
    "\\text{sen}(\\theta) &\\approx \\theta -\\frac{1}{3!}\\,\\theta\\,^{3} + \\frac{1}{5!}\\,\\theta\\,^{5} - \\ldots\n",
    "\\end{align*}"
   ]
  },
  {
   "cell_type": "markdown",
   "metadata": {},
   "source": [
    "Se puede aproximar para desplazamientos angulares pequeños:"
   ]
  },
  {
   "cell_type": "markdown",
   "metadata": {},
   "source": [
    "\\begin{align*}\n",
    "\\text{sen}(\\theta) &\\approx \\theta \n",
    "\\end{align*}"
   ]
  },
  {
   "cell_type": "markdown",
   "metadata": {},
   "source": [
    "Y la ecuación diferencial aproximada que describe el movimiento es:"
   ]
  },
  {
   "cell_type": "markdown",
   "metadata": {},
   "source": [
    "\\begin{align*}\n",
    "\\ddot{\\theta}+\\,\\omega_{0}^{2}\\,\\theta\\,&=\\,0\n",
    "\\label{eq5}\\tag{5}\n",
    "\\end{align*}"
   ]
  },
  {
   "cell_type": "markdown",
   "metadata": {},
   "source": [
    "Esta ecuación ([5](#mjx-eqn-eq5)) corresponde a la de un oscilador armónico. La clásica solución es del tipo:"
   ]
  },
  {
   "cell_type": "markdown",
   "metadata": {},
   "source": [
    "\\begin{align*}\n",
    "\\theta\\,(t)\\,&=\\,\\theta_{0}\\,{\\text{cos}}\\,(\\omega_{0}\\,t+\\phi)\n",
    "\\label{eq6}\\tag{6}\n",
    "\\end{align*}"
   ]
  },
  {
   "cell_type": "markdown",
   "metadata": {},
   "source": [
    "con $\\theta_{0}$ y $\\phi$ constantes que dependen de las condiciones iniciales."
   ]
  },
  {
   "cell_type": "markdown",
   "metadata": {},
   "source": [
    "### Energía del péndulo"
   ]
  },
  {
   "cell_type": "markdown",
   "metadata": {},
   "source": [
    "Ignorando la fricción y cualquier otra fuerza no conservativa, en el péndulo simple la energía se conserva, es decir, "
   ]
  },
  {
   "cell_type": "markdown",
   "metadata": {},
   "source": [
    "\\begin{align*}\n",
    "\\dot{E}&=0 \n",
    "\\end{align*}"
   ]
  },
  {
   "cell_type": "markdown",
   "metadata": {},
   "source": [
    "Durante el movimiento, la energía total, una combinación de energía potencial gravitacional y energía cinética, consiste en un intercambio constante de energía."
   ]
  },
  {
   "cell_type": "markdown",
   "metadata": {},
   "source": [
    "#### La energía potencial $V$ del péndulo se puede modelar como: "
   ]
  },
  {
   "cell_type": "markdown",
   "metadata": {},
   "source": [
    "\\begin{align}\n",
    "V &={\\text{m}}{\\text{g}}{\\text{h}} \n",
    "\\label{eq7}\\tag{7}\n",
    "\\end{align}"
   ]
  },
  {
   "cell_type": "markdown",
   "metadata": {},
   "source": [
    "con $\\text{h}$ la altura como se muestra en la Figura 2. Cuando $\\theta = 0$, el péndulo está en el punto más bajo, $\\text{h}=0$, y no existe energía potencial. Mientras que cuando $\\theta = \\frac{\\pi}{2}$, el péndulo está en la parte más elevada, con $\\text{h}={\\text{L}}$, y está momentáneamente sin movimiento, y toda la energía es potencial. En todos los puntos entre medio, la energía potencial se puede modelar como: $\\text{h}={\\text{L}}\\,(1-\\text{cos}(\\theta))$. "
   ]
  },
  {
   "cell_type": "markdown",
   "metadata": {},
   "source": [
    "\\begin{align}\n",
    "V &={\\text{m}}{\\text{g}}{\\text{L}}\\,(1-\\text{cos}(\\theta)) \n",
    "\\label{eq8}\\tag{8}\n",
    "\\end{align}"
   ]
  },
  {
   "cell_type": "markdown",
   "metadata": {},
   "source": [
    "<p style=\"text-align:center\">\n",
    "    <a title=\"Energía potencial\"><img src=\"EnergiaPotencial.png\" width=\"350\" height=\"350\" alt=\"Tiny\"></a>\n",
    "    <strong>Figure 2. Energía potencial del péndulo simple.</strong> "
   ]
  },
  {
   "cell_type": "markdown",
   "metadata": {},
   "source": [
    "#### La energía cinética de la partícula de masa ${\\text{m}}$ se define como:"
   ]
  },
  {
   "cell_type": "markdown",
   "metadata": {},
   "source": [
    "\\begin{align*}\n",
    "T \\,&=\\,\\frac{1}{2}\\,{\\text{m}}\\,{\\bf{{\\dot{r}}}}\\,\\cdot{\\bf{{\\dot{r}}}},\\quad {\\text{pero,}}\\, {\\bf{{\\dot{r}}}}={\\text{L}}\\,\\dot{\\theta}\\,\\hat{\\theta}\n",
    "\\end{align*}"
   ]
  },
  {
   "cell_type": "markdown",
   "metadata": {},
   "source": [
    "\\begin{align*}\n",
    "T \\,&=\\,\\frac{1}{2}\\,{\\text{m}}\\,{\\text{L}}^{2}\\dot{\\theta}\\,^{2}\n",
    "\\label{eq9}\\tag{9}\n",
    "\\end{align*}"
   ]
  },
  {
   "cell_type": "markdown",
   "metadata": {},
   "source": [
    "Cuando regresa desde $\\theta = \\frac{\\pi}{2}$ al punto cuando $\\theta = 0$, el péndulo tiene su mayor velocidad. Toda la energía es cinética y no hay energía potencial."
   ]
  },
  {
   "cell_type": "markdown",
   "metadata": {},
   "source": [
    "En consecuencia, la energía total es:"
   ]
  },
  {
   "cell_type": "markdown",
   "metadata": {},
   "source": [
    "\\begin{align*}\n",
    "E &= V + T\n",
    "\\label{eq10}\\tag{10}\n",
    "\\end{align*}"
   ]
  },
  {
   "cell_type": "markdown",
   "metadata": {},
   "source": [
    "\\begin{align}\n",
    "E &={\\text{m}}{\\text{g}}{\\text{L}}\\,(1-\\text{cos}(\\theta)) + \\frac{1}{2}\\,{\\text{m}}\\,{\\text{L}}^{2}\\dot{\\theta}\\,^{2}\n",
    "\\label{eq11}\\tag{11}\n",
    "\\end{align}"
   ]
  },
  {
   "cell_type": "markdown",
   "metadata": {},
   "source": [
    "Por la ecuación de conservación de la energía,"
   ]
  },
  {
   "cell_type": "markdown",
   "metadata": {},
   "source": [
    "\\begin{align*}\n",
    "\\dot{E} &=\\,{\\text{m}}{\\text{g}}{\\text{L}}\\,{\\text{sen}}(\\theta)\\,\\dot{\\theta}\\,+\\,{\\text{m}}{\\text{L}}^{2}\\,\\dot{\\theta}\\,\\ddot{\\theta}\\,=\\,0\n",
    "\\end{align*}"
   ]
  },
  {
   "cell_type": "markdown",
   "metadata": {},
   "source": [
    "\\begin{align*}\n",
    "{\\text{m}}{\\text{L}}^{2}\\,\\dot{\\theta}\\,\\ddot{\\theta}\\,+\\,{\\text{m}}{\\text{g}}{\\text{L}}\\,{\\text{sen}}(\\theta)\\,\\dot{\\theta} &=\\,0\n",
    "\\end{align*}"
   ]
  },
  {
   "cell_type": "markdown",
   "metadata": {},
   "source": [
    "\\begin{align*}\n",
    "\\dot{\\theta}\\,({\\text{m}}{\\text{L}}^{2}\\,\\ddot{\\theta}\\,+\\,{\\text{m}}{\\text{g}}{\\text{L}}\\,{\\text{sen}}(\\theta)\\,)&=\\,0\n",
    "\\end{align*}"
   ]
  },
  {
   "cell_type": "markdown",
   "metadata": {},
   "source": [
    "Existen dos soluciones, ya sea $\\dot{\\theta}=0$, o bien,"
   ]
  },
  {
   "cell_type": "markdown",
   "metadata": {},
   "source": [
    "\\begin{align*}\n",
    "\\ddot{\\theta}\\,+\\,\\Bigg(\\frac{g}{L}\\Bigg)\\,{\\text{sen}}(\\theta)&=0\n",
    "\\end{align*}"
   ]
  },
  {
   "cell_type": "markdown",
   "metadata": {},
   "source": [
    "Que es la misma ecuación de movimiento ya obtenida anteriormente."
   ]
  },
  {
   "cell_type": "markdown",
   "metadata": {},
   "source": [
    "### Ecuación de Euler-Lagrange"
   ]
  },
  {
   "cell_type": "markdown",
   "metadata": {},
   "source": [
    "Para esta ecuación se considera la siguiente combinación de energía potencial y cinética, $\\text{V}$ y $\\text{T}$, respectivamente:"
   ]
  },
  {
   "cell_type": "markdown",
   "metadata": {},
   "source": [
    "\\begin{align}\n",
    "\\text{L} &=\\text{T} - \\text{V}\n",
    "\\label{eq12}\\tag{12}\n",
    "\\end{align}"
   ]
  },
  {
   "cell_type": "markdown",
   "metadata": {},
   "source": [
    "Aquí, $\\text{L}$ se conoce como la $\\bf{Lagrangiana}$."
   ]
  },
  {
   "cell_type": "markdown",
   "metadata": {},
   "source": [
    "Si ahora se escribe la ecuación:"
   ]
  },
  {
   "cell_type": "markdown",
   "metadata": {},
   "source": [
    "\\begin{align}\n",
    "\\frac{d}{dt}\\Bigg( \\frac{\\partial \\text{L}}{\\partial \\dot{x_{i}}} \\Bigg) -\\frac{\\partial \\text{L}}{\\partial x_{i}}&=0\n",
    "\\label{eq13}\\tag{13}\n",
    "\\end{align}"
   ]
  },
  {
   "cell_type": "markdown",
   "metadata": {},
   "source": [
    "donde $i$ se toma para todos los grados de libertad del sistema vibratorio, se obtiene la ecuación llamada clásicamente: la ecuación de Euler-Lagrange."
   ]
  },
  {
   "cell_type": "markdown",
   "metadata": {},
   "source": [
    "#### Ejemplo: Ecuación de Euler-Lagrange para el péndulo simple."
   ]
  },
  {
   "cell_type": "markdown",
   "metadata": {},
   "source": [
    "En el caso del péndulo, se tiene una sola coordenada (llamada coordenada generalizada) de modo que la Lagrangiana se puede escribir en términos de $\\theta$ y $\\dot{\\theta}$ y luego, derivar la ecuación de movimiento. La Lagrangiana será: "
   ]
  },
  {
   "cell_type": "markdown",
   "metadata": {},
   "source": [
    "\\begin{align}\n",
    "\\text{L} &=\\text{T} - \\text{V}\n",
    "\\label{eq12}\\tag{12}\n",
    "\\end{align}"
   ]
  },
  {
   "cell_type": "markdown",
   "metadata": {},
   "source": [
    "donde:\n",
    "\\begin{align*}\n",
    "T \\,&=\\,\\frac{1}{2}\\,{\\text{m}}\\,{\\text{L}}^{2}\\dot{\\theta}\\,^{2}\n",
    "\\end{align*}"
   ]
  },
  {
   "cell_type": "markdown",
   "metadata": {},
   "source": [
    "y \n",
    "\\begin{align}\n",
    "V &={\\text{m}}{\\text{g}}{\\text{L}}\\,(1-\\text{cos}(\\theta)) \n",
    "\\end{align}"
   ]
  },
  {
   "cell_type": "markdown",
   "metadata": {},
   "source": [
    "\\begin{align}\n",
    "\\text{L} &=\\frac{1}{2}\\,{\\text{m}}\\,{\\text{L}}^{2}\\dot{\\theta}\\,^{2} - {\\text{m}}{\\text{g}}{\\text{L}}\\,(1-\\text{cos}(\\theta))\n",
    "\\label{eq13}\\tag{13}\n",
    "\\end{align}"
   ]
  },
  {
   "cell_type": "markdown",
   "metadata": {},
   "source": [
    "La Ecuación de Euler-Lagrange será:"
   ]
  },
  {
   "cell_type": "markdown",
   "metadata": {},
   "source": [
    "\\begin{align*}\n",
    "\\frac{d}{dt}\\Bigg( \\frac{\\partial \\text{L}}{\\partial \\dot{\\theta}} \\Bigg) -\\frac{\\partial \\text{L}}{\\partial \\theta}&=0\n",
    "\\end{align*}"
   ]
  },
  {
   "cell_type": "markdown",
   "metadata": {},
   "source": [
    "donde "
   ]
  },
  {
   "cell_type": "markdown",
   "metadata": {},
   "source": [
    "\\begin{align*}\n",
    "\\frac{\\partial \\text{L}}{\\partial \\theta}&=-\\, {\\text{m}}{\\text{g}}{\\text{L}}\\,(\\text{sen}(\\theta))\n",
    "\\end{align*}"
   ]
  },
  {
   "cell_type": "markdown",
   "metadata": {},
   "source": [
    "y"
   ]
  },
  {
   "cell_type": "markdown",
   "metadata": {},
   "source": [
    "\\begin{align*}\n",
    "\\frac{\\partial \\text{L}}{\\partial \\dot{\\theta}} &={\\text{m}}\\,{\\text{L}}^{2}\\dot{\\theta}\n",
    "\\end{align*}"
   ]
  },
  {
   "cell_type": "markdown",
   "metadata": {},
   "source": [
    "y derivando con respecto al tiempo:"
   ]
  },
  {
   "cell_type": "markdown",
   "metadata": {},
   "source": [
    "\\begin{align*}\n",
    "\\frac{d}{dt}\\Bigg( \\frac{\\partial \\text{L}}{\\partial \\dot{\\theta}} \\Bigg) &={\\text{m}}\\,{\\text{L}}^{2}\\ddot{\\theta}\n",
    "\\end{align*}"
   ]
  },
  {
   "cell_type": "markdown",
   "metadata": {},
   "source": [
    "Por lo que aplicando ka ecuación de Euler-Lagrange, se obtiene la misma ecuación de la clase 1:"
   ]
  },
  {
   "cell_type": "markdown",
   "metadata": {},
   "source": [
    "\\begin{align*}\n",
    "\\frac{d}{dt}\\Bigg( \\frac{\\partial \\text{L}}{\\partial \\dot{\\theta}} \\Bigg) -\\frac{\\partial \\text{L}}{\\partial \\theta}&={\\text{m}}\\,{\\text{L}}^{2}\\ddot{\\theta}\\,+\\,{\\text{m}}{\\text{g}}{\\text{L}}\\,(\\text{sen}(\\theta))=0\n",
    "\\end{align*}"
   ]
  },
  {
   "cell_type": "markdown",
   "metadata": {},
   "source": [
    "\\begin{align*}\n",
    "\\ddot{\\theta}\\,+\\,\\Bigg(\\frac{g}{L}\\Bigg)\\,{\\text{sen}}(\\theta)&=0\n",
    "\\end{align*}"
   ]
  },
  {
   "cell_type": "code",
   "execution_count": null,
   "metadata": {},
   "outputs": [],
   "source": []
  }
 ],
 "metadata": {
  "kernelspec": {
   "display_name": "Python 3",
   "language": "python",
   "name": "python3"
  },
  "language_info": {
   "codemirror_mode": {
    "name": "ipython",
    "version": 3
   },
   "file_extension": ".py",
   "mimetype": "text/x-python",
   "name": "python",
   "nbconvert_exporter": "python",
   "pygments_lexer": "ipython3",
   "version": "3.6.9"
  }
 },
 "nbformat": 4,
 "nbformat_minor": 2
}
